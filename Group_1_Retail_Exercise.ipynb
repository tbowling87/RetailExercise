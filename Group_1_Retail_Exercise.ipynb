{
  "nbformat": 4,
  "nbformat_minor": 0,
  "metadata": {
    "colab": {
      "name": "Group 1 Retail Exercise.ipynb",
      "version": "0.3.2",
      "provenance": [],
      "collapsed_sections": [],
      "include_colab_link": true
    },
    "kernelspec": {
      "name": "python3",
      "display_name": "Python 3"
    }
  },
  "cells": [
    {
      "cell_type": "markdown",
      "metadata": {
        "id": "view-in-github",
        "colab_type": "text"
      },
      "source": [
        "<a href=\"https://colab.research.google.com/github/tbowling87/RetailExercise/blob/master/Group_1_Retail_Exercise.ipynb\" target=\"_parent\"><img src=\"https://colab.research.google.com/assets/colab-badge.svg\" alt=\"Open In Colab\"/></a>"
      ]
    },
    {
      "metadata": {
        "id": "xeNCmjFvTmX0",
        "colab_type": "text"
      },
      "cell_type": "markdown",
      "source": [
        "# Retail Data Exercise: Group 1"
      ]
    },
    {
      "metadata": {
        "id": "1YyYEojXTweP",
        "colab_type": "text"
      },
      "cell_type": "markdown",
      "source": [
        "##Data Preparation"
      ]
    },
    {
      "metadata": {
        "id": "FcMgSISjSxJg",
        "colab_type": "code",
        "colab": {}
      },
      "cell_type": "code",
      "source": [
        "#import libraries\n",
        "import pandas as pd\n",
        "import numpy as np\n",
        "import datetime\n",
        "import io\n",
        "import sklearn\n",
        "from google.colab import files\n"
      ],
      "execution_count": 0,
      "outputs": []
    },
    {
      "metadata": {
        "id": "jTXroJ8oT_Bl",
        "colab_type": "code",
        "outputId": "bd5a830a-a003-4682-f794-a5180b58dee6",
        "colab": {
          "resources": {
            "http://localhost:8080/nbextensions/google.colab/files.js": {
              "data": "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",
              "ok": true,
              "headers": [
                [
                  "content-type",
                  "application/javascript"
                ]
              ],
              "status": 200,
              "status_text": ""
            }
          },
          "base_uri": "https://localhost:8080/",
          "height": 74
        }
      },
      "cell_type": "code",
      "source": [
        "#upload raw data from beacons exercise - didn't want to save this in a public github!\n",
        "uploaded = files.upload()"
      ],
      "execution_count": 2,
      "outputs": [
        {
          "output_type": "display_data",
          "data": {
            "text/html": [
              "\n",
              "     <input type=\"file\" id=\"files-dcba53d0-2a3a-42ea-abf2-cfc5608a93c8\" name=\"files[]\" multiple disabled />\n",
              "     <output id=\"result-dcba53d0-2a3a-42ea-abf2-cfc5608a93c8\">\n",
              "      Upload widget is only available when the cell has been executed in the\n",
              "      current browser session. Please rerun this cell to enable.\n",
              "      </output>\n",
              "      <script src=\"/nbextensions/google.colab/files.js\"></script> "
            ],
            "text/plain": [
              "<IPython.core.display.HTML object>"
            ]
          },
          "metadata": {
            "tags": []
          }
        },
        {
          "output_type": "stream",
          "text": [
            "Saving beacon_data.csv to beacon_data.csv\n"
          ],
          "name": "stdout"
        }
      ]
    },
    {
      "metadata": {
        "id": "ocE5ocr4UL8P",
        "colab_type": "code",
        "colab": {}
      },
      "cell_type": "code",
      "source": [
        "#load the data in to a pandas data frame\n",
        "raw_data = pd.read_csv(io.BytesIO(uploaded['beacon_data.csv']), sep = \";\")"
      ],
      "execution_count": 0,
      "outputs": []
    },
    {
      "metadata": {
        "id": "Zg5hLZLkVEYF",
        "colab_type": "code",
        "outputId": "220e8562-1f34-4abc-e4e7-f499e70462af",
        "colab": {
          "base_uri": "https://localhost:8080/",
          "height": 204
        }
      },
      "cell_type": "code",
      "source": [
        "#take a peak at the raw data\n",
        "raw_data.head()"
      ],
      "execution_count": 0,
      "outputs": [
        {
          "output_type": "execute_result",
          "data": {
            "text/html": [
              "<div>\n",
              "<style scoped>\n",
              "    .dataframe tbody tr th:only-of-type {\n",
              "        vertical-align: middle;\n",
              "    }\n",
              "\n",
              "    .dataframe tbody tr th {\n",
              "        vertical-align: top;\n",
              "    }\n",
              "\n",
              "    .dataframe thead th {\n",
              "        text-align: right;\n",
              "    }\n",
              "</style>\n",
              "<table border=\"1\" class=\"dataframe\">\n",
              "  <thead>\n",
              "    <tr style=\"text-align: right;\">\n",
              "      <th></th>\n",
              "      <th>id</th>\n",
              "      <th>gtid</th>\n",
              "      <th>vendor_id</th>\n",
              "      <th>subscriber_id</th>\n",
              "      <th>merchant_id</th>\n",
              "      <th>signal_type</th>\n",
              "      <th>entry_date</th>\n",
              "      <th>exit_date</th>\n",
              "      <th>latitude</th>\n",
              "      <th>longitude</th>\n",
              "      <th>dongle_id</th>\n",
              "      <th>distance</th>\n",
              "      <th>proximity</th>\n",
              "      <th>rssi</th>\n",
              "    </tr>\n",
              "  </thead>\n",
              "  <tbody>\n",
              "    <tr>\n",
              "      <th>0</th>\n",
              "      <td>2339839562</td>\n",
              "      <td>F9341167-6D6C-4321-924F-2E6B9D9CEF7A</td>\n",
              "      <td>135</td>\n",
              "      <td>29253903</td>\n",
              "      <td>2133</td>\n",
              "      <td>2</td>\n",
              "      <td>2017-05-01 09:54:14.000000</td>\n",
              "      <td>NaN</td>\n",
              "      <td>40.992124</td>\n",
              "      <td>29.126770</td>\n",
              "      <td>5536</td>\n",
              "      <td>-100.000000</td>\n",
              "      <td>unknown</td>\n",
              "      <td>0.0</td>\n",
              "    </tr>\n",
              "    <tr>\n",
              "      <th>1</th>\n",
              "      <td>2340151194</td>\n",
              "      <td>EB93B8DF-1F8D-4BD6-A4E5-67B9BACBF6CF</td>\n",
              "      <td>135</td>\n",
              "      <td>17090954</td>\n",
              "      <td>2133</td>\n",
              "      <td>2</td>\n",
              "      <td>2017-05-01 10:28:45.000000</td>\n",
              "      <td>NaN</td>\n",
              "      <td>40.992183</td>\n",
              "      <td>29.126761</td>\n",
              "      <td>5536</td>\n",
              "      <td>1668.100537</td>\n",
              "      <td>far</td>\n",
              "      <td>-86.0</td>\n",
              "    </tr>\n",
              "    <tr>\n",
              "      <th>2</th>\n",
              "      <td>2340151210</td>\n",
              "      <td>5563AB7A-C5B0-492D-80E5-04E52A5C0C28</td>\n",
              "      <td>135</td>\n",
              "      <td>17090954</td>\n",
              "      <td>2133</td>\n",
              "      <td>2</td>\n",
              "      <td>2017-05-01 10:28:45.000000</td>\n",
              "      <td>NaN</td>\n",
              "      <td>40.992183</td>\n",
              "      <td>29.126761</td>\n",
              "      <td>5536</td>\n",
              "      <td>1668.100537</td>\n",
              "      <td>far</td>\n",
              "      <td>-86.0</td>\n",
              "    </tr>\n",
              "    <tr>\n",
              "      <th>3</th>\n",
              "      <td>2340151187</td>\n",
              "      <td>55AFD11A-06A3-4E9D-8735-445F3DE654D7</td>\n",
              "      <td>178</td>\n",
              "      <td>15630196</td>\n",
              "      <td>2133</td>\n",
              "      <td>2</td>\n",
              "      <td>2017-05-01 10:28:45.000000</td>\n",
              "      <td>NaN</td>\n",
              "      <td>40.992183</td>\n",
              "      <td>29.126761</td>\n",
              "      <td>5536</td>\n",
              "      <td>1668.100537</td>\n",
              "      <td>far</td>\n",
              "      <td>-86.0</td>\n",
              "    </tr>\n",
              "    <tr>\n",
              "      <th>4</th>\n",
              "      <td>2340185826</td>\n",
              "      <td>52DE3BD3-655B-40F2-AC37-1199E0CBD31B</td>\n",
              "      <td>178</td>\n",
              "      <td>15630196</td>\n",
              "      <td>2133</td>\n",
              "      <td>2</td>\n",
              "      <td>2017-05-01 10:32:19.000000</td>\n",
              "      <td>NaN</td>\n",
              "      <td>40.992110</td>\n",
              "      <td>29.126783</td>\n",
              "      <td>5536</td>\n",
              "      <td>1467.799268</td>\n",
              "      <td>far</td>\n",
              "      <td>-85.0</td>\n",
              "    </tr>\n",
              "  </tbody>\n",
              "</table>\n",
              "</div>"
            ],
            "text/plain": [
              "           id                                  gtid  vendor_id  subscriber_id  \\\n",
              "0  2339839562  F9341167-6D6C-4321-924F-2E6B9D9CEF7A        135       29253903   \n",
              "1  2340151194  EB93B8DF-1F8D-4BD6-A4E5-67B9BACBF6CF        135       17090954   \n",
              "2  2340151210  5563AB7A-C5B0-492D-80E5-04E52A5C0C28        135       17090954   \n",
              "3  2340151187  55AFD11A-06A3-4E9D-8735-445F3DE654D7        178       15630196   \n",
              "4  2340185826  52DE3BD3-655B-40F2-AC37-1199E0CBD31B        178       15630196   \n",
              "\n",
              "   merchant_id  signal_type                  entry_date exit_date   latitude  \\\n",
              "0         2133            2  2017-05-01 09:54:14.000000       NaN  40.992124   \n",
              "1         2133            2  2017-05-01 10:28:45.000000       NaN  40.992183   \n",
              "2         2133            2  2017-05-01 10:28:45.000000       NaN  40.992183   \n",
              "3         2133            2  2017-05-01 10:28:45.000000       NaN  40.992183   \n",
              "4         2133            2  2017-05-01 10:32:19.000000       NaN  40.992110   \n",
              "\n",
              "   longitude  dongle_id     distance proximity  rssi  \n",
              "0  29.126770       5536  -100.000000   unknown   0.0  \n",
              "1  29.126761       5536  1668.100537       far -86.0  \n",
              "2  29.126761       5536  1668.100537       far -86.0  \n",
              "3  29.126761       5536  1668.100537       far -86.0  \n",
              "4  29.126783       5536  1467.799268       far -85.0  "
            ]
          },
          "metadata": {
            "tags": []
          },
          "execution_count": 4
        }
      ]
    },
    {
      "metadata": {
        "id": "PYckUbw2VY6O",
        "colab_type": "code",
        "outputId": "aeb29d43-cc63-4cc3-b86c-ae472d8c1d15",
        "colab": {
          "base_uri": "https://localhost:8080/",
          "height": 297
        }
      },
      "cell_type": "code",
      "source": [
        "#check out a quick summary\n",
        "raw_data.describe()"
      ],
      "execution_count": 0,
      "outputs": [
        {
          "output_type": "execute_result",
          "data": {
            "text/html": [
              "<div>\n",
              "<style scoped>\n",
              "    .dataframe tbody tr th:only-of-type {\n",
              "        vertical-align: middle;\n",
              "    }\n",
              "\n",
              "    .dataframe tbody tr th {\n",
              "        vertical-align: top;\n",
              "    }\n",
              "\n",
              "    .dataframe thead th {\n",
              "        text-align: right;\n",
              "    }\n",
              "</style>\n",
              "<table border=\"1\" class=\"dataframe\">\n",
              "  <thead>\n",
              "    <tr style=\"text-align: right;\">\n",
              "      <th></th>\n",
              "      <th>id</th>\n",
              "      <th>vendor_id</th>\n",
              "      <th>subscriber_id</th>\n",
              "      <th>merchant_id</th>\n",
              "      <th>signal_type</th>\n",
              "      <th>latitude</th>\n",
              "      <th>longitude</th>\n",
              "      <th>dongle_id</th>\n",
              "      <th>distance</th>\n",
              "      <th>rssi</th>\n",
              "    </tr>\n",
              "  </thead>\n",
              "  <tbody>\n",
              "    <tr>\n",
              "      <th>count</th>\n",
              "      <td>1.252500e+05</td>\n",
              "      <td>125250.000000</td>\n",
              "      <td>1.252500e+05</td>\n",
              "      <td>125250.0</td>\n",
              "      <td>125250.000000</td>\n",
              "      <td>124279.000000</td>\n",
              "      <td>124279.000000</td>\n",
              "      <td>125250.0</td>\n",
              "      <td>109285.000000</td>\n",
              "      <td>109285.000000</td>\n",
              "    </tr>\n",
              "    <tr>\n",
              "      <th>mean</th>\n",
              "      <td>3.315534e+09</td>\n",
              "      <td>175.660072</td>\n",
              "      <td>2.201998e+07</td>\n",
              "      <td>2133.0</td>\n",
              "      <td>2.254930</td>\n",
              "      <td>40.974975</td>\n",
              "      <td>29.110562</td>\n",
              "      <td>5536.0</td>\n",
              "      <td>1408.055217</td>\n",
              "      <td>-70.516118</td>\n",
              "    </tr>\n",
              "    <tr>\n",
              "      <th>std</th>\n",
              "      <td>4.886681e+08</td>\n",
              "      <td>108.902448</td>\n",
              "      <td>8.206018e+06</td>\n",
              "      <td>0.0</td>\n",
              "      <td>0.666989</td>\n",
              "      <td>0.877990</td>\n",
              "      <td>0.629768</td>\n",
              "      <td>0.0</td>\n",
              "      <td>1334.454282</td>\n",
              "      <td>33.815410</td>\n",
              "    </tr>\n",
              "    <tr>\n",
              "      <th>min</th>\n",
              "      <td>2.338573e+09</td>\n",
              "      <td>6.000000</td>\n",
              "      <td>2.699200e+04</td>\n",
              "      <td>2133.0</td>\n",
              "      <td>2.000000</td>\n",
              "      <td>0.000000</td>\n",
              "      <td>0.000000</td>\n",
              "      <td>5536.0</td>\n",
              "      <td>-100.000000</td>\n",
              "      <td>-116.000000</td>\n",
              "    </tr>\n",
              "    <tr>\n",
              "      <th>25%</th>\n",
              "      <td>2.884233e+09</td>\n",
              "      <td>110.000000</td>\n",
              "      <td>1.645927e+07</td>\n",
              "      <td>2133.0</td>\n",
              "      <td>2.000000</td>\n",
              "      <td>40.992013</td>\n",
              "      <td>29.126663</td>\n",
              "      <td>5536.0</td>\n",
              "      <td>480.440266</td>\n",
              "      <td>-90.000000</td>\n",
              "    </tr>\n",
              "    <tr>\n",
              "      <th>50%</th>\n",
              "      <td>3.387717e+09</td>\n",
              "      <td>135.000000</td>\n",
              "      <td>2.362873e+07</td>\n",
              "      <td>2133.0</td>\n",
              "      <td>2.000000</td>\n",
              "      <td>40.992139</td>\n",
              "      <td>29.126753</td>\n",
              "      <td>5536.0</td>\n",
              "      <td>1257.377629</td>\n",
              "      <td>-85.000000</td>\n",
              "    </tr>\n",
              "    <tr>\n",
              "      <th>75%</th>\n",
              "      <td>3.795225e+09</td>\n",
              "      <td>331.000000</td>\n",
              "      <td>2.879388e+07</td>\n",
              "      <td>2133.0</td>\n",
              "      <td>2.000000</td>\n",
              "      <td>40.992211</td>\n",
              "      <td>29.126796</td>\n",
              "      <td>5536.0</td>\n",
              "      <td>2154.434690</td>\n",
              "      <td>-78.000000</td>\n",
              "    </tr>\n",
              "    <tr>\n",
              "      <th>max</th>\n",
              "      <td>3.927653e+09</td>\n",
              "      <td>1055.000000</td>\n",
              "      <td>3.573413e+07</td>\n",
              "      <td>2133.0</td>\n",
              "      <td>4.000000</td>\n",
              "      <td>41.396288</td>\n",
              "      <td>32.435247</td>\n",
              "      <td>5536.0</td>\n",
              "      <td>94675.469987</td>\n",
              "      <td>127.000000</td>\n",
              "    </tr>\n",
              "  </tbody>\n",
              "</table>\n",
              "</div>"
            ],
            "text/plain": [
              "                 id      vendor_id  subscriber_id  merchant_id    signal_type  \\\n",
              "count  1.252500e+05  125250.000000   1.252500e+05     125250.0  125250.000000   \n",
              "mean   3.315534e+09     175.660072   2.201998e+07       2133.0       2.254930   \n",
              "std    4.886681e+08     108.902448   8.206018e+06          0.0       0.666989   \n",
              "min    2.338573e+09       6.000000   2.699200e+04       2133.0       2.000000   \n",
              "25%    2.884233e+09     110.000000   1.645927e+07       2133.0       2.000000   \n",
              "50%    3.387717e+09     135.000000   2.362873e+07       2133.0       2.000000   \n",
              "75%    3.795225e+09     331.000000   2.879388e+07       2133.0       2.000000   \n",
              "max    3.927653e+09    1055.000000   3.573413e+07       2133.0       4.000000   \n",
              "\n",
              "            latitude      longitude  dongle_id       distance           rssi  \n",
              "count  124279.000000  124279.000000   125250.0  109285.000000  109285.000000  \n",
              "mean       40.974975      29.110562     5536.0    1408.055217     -70.516118  \n",
              "std         0.877990       0.629768        0.0    1334.454282      33.815410  \n",
              "min         0.000000       0.000000     5536.0    -100.000000    -116.000000  \n",
              "25%        40.992013      29.126663     5536.0     480.440266     -90.000000  \n",
              "50%        40.992139      29.126753     5536.0    1257.377629     -85.000000  \n",
              "75%        40.992211      29.126796     5536.0    2154.434690     -78.000000  \n",
              "max        41.396288      32.435247     5536.0   94675.469987     127.000000  "
            ]
          },
          "metadata": {
            "tags": []
          },
          "execution_count": 5
        }
      ]
    },
    {
      "metadata": {
        "id": "rVPBdJ7eVcvF",
        "colab_type": "code",
        "colab": {}
      },
      "cell_type": "code",
      "source": [
        "#replace 0's in lat and long with averages\n",
        "raw_data = raw_data.replace({'latitude': {0: raw_data['latitude'].median()}})\n",
        "raw_data = raw_data.replace({'longitude': {0: raw_data['longitude'].median()}})\n",
        "\n",
        "#replace -100's in distance with na's\n",
        "raw_data = raw_data.replace({'distance': {-100: np.nan}})\n",
        "#repalce 0's and 127 with na's in the rssi column\n",
        "raw_data = raw_data.replace({'rssi': {0: np.nan,\n",
        "                                      127: np.nan}})"
      ],
      "execution_count": 0,
      "outputs": []
    },
    {
      "metadata": {
        "id": "SNBwq3N5VuEq",
        "colab_type": "code",
        "outputId": "41676802-8d99-4cdf-f3f5-d2ae16f6c8de",
        "colab": {
          "base_uri": "https://localhost:8080/",
          "height": 297
        }
      },
      "cell_type": "code",
      "source": [
        "#check how those changes have impacted the data\n",
        "raw_data.describe()"
      ],
      "execution_count": 5,
      "outputs": [
        {
          "output_type": "execute_result",
          "data": {
            "text/html": [
              "<div>\n",
              "<style scoped>\n",
              "    .dataframe tbody tr th:only-of-type {\n",
              "        vertical-align: middle;\n",
              "    }\n",
              "\n",
              "    .dataframe tbody tr th {\n",
              "        vertical-align: top;\n",
              "    }\n",
              "\n",
              "    .dataframe thead th {\n",
              "        text-align: right;\n",
              "    }\n",
              "</style>\n",
              "<table border=\"1\" class=\"dataframe\">\n",
              "  <thead>\n",
              "    <tr style=\"text-align: right;\">\n",
              "      <th></th>\n",
              "      <th>id</th>\n",
              "      <th>vendor_id</th>\n",
              "      <th>subscriber_id</th>\n",
              "      <th>merchant_id</th>\n",
              "      <th>signal_type</th>\n",
              "      <th>latitude</th>\n",
              "      <th>longitude</th>\n",
              "      <th>dongle_id</th>\n",
              "      <th>distance</th>\n",
              "      <th>rssi</th>\n",
              "    </tr>\n",
              "  </thead>\n",
              "  <tbody>\n",
              "    <tr>\n",
              "      <th>count</th>\n",
              "      <td>1.252500e+05</td>\n",
              "      <td>125250.000000</td>\n",
              "      <td>1.252500e+05</td>\n",
              "      <td>125250.0</td>\n",
              "      <td>125250.000000</td>\n",
              "      <td>124279.000000</td>\n",
              "      <td>124279.000000</td>\n",
              "      <td>125250.0</td>\n",
              "      <td>89359.000000</td>\n",
              "      <td>89352.000000</td>\n",
              "    </tr>\n",
              "    <tr>\n",
              "      <th>mean</th>\n",
              "      <td>3.315534e+09</td>\n",
              "      <td>175.660072</td>\n",
              "      <td>2.201998e+07</td>\n",
              "      <td>2133.0</td>\n",
              "      <td>2.254930</td>\n",
              "      <td>40.993776</td>\n",
              "      <td>29.124155</td>\n",
              "      <td>5536.0</td>\n",
              "      <td>1744.333692</td>\n",
              "      <td>-86.252820</td>\n",
              "    </tr>\n",
              "    <tr>\n",
              "      <th>std</th>\n",
              "      <td>4.886681e+08</td>\n",
              "      <td>108.902448</td>\n",
              "      <td>8.206018e+06</td>\n",
              "      <td>0.0</td>\n",
              "      <td>0.666989</td>\n",
              "      <td>0.021561</td>\n",
              "      <td>0.030560</td>\n",
              "      <td>0.0</td>\n",
              "      <td>1248.056995</td>\n",
              "      <td>6.332788</td>\n",
              "    </tr>\n",
              "    <tr>\n",
              "      <th>min</th>\n",
              "      <td>2.338573e+09</td>\n",
              "      <td>6.000000</td>\n",
              "      <td>2.699200e+04</td>\n",
              "      <td>2133.0</td>\n",
              "      <td>2.000000</td>\n",
              "      <td>36.878855</td>\n",
              "      <td>27.535459</td>\n",
              "      <td>5536.0</td>\n",
              "      <td>0.027826</td>\n",
              "      <td>-116.000000</td>\n",
              "    </tr>\n",
              "    <tr>\n",
              "      <th>25%</th>\n",
              "      <td>2.884233e+09</td>\n",
              "      <td>110.000000</td>\n",
              "      <td>1.645927e+07</td>\n",
              "      <td>2133.0</td>\n",
              "      <td>2.000000</td>\n",
              "      <td>40.992013</td>\n",
              "      <td>29.126663</td>\n",
              "      <td>5536.0</td>\n",
              "      <td>888.904863</td>\n",
              "      <td>-90.000000</td>\n",
              "    </tr>\n",
              "    <tr>\n",
              "      <th>50%</th>\n",
              "      <td>3.387717e+09</td>\n",
              "      <td>135.000000</td>\n",
              "      <td>2.362873e+07</td>\n",
              "      <td>2133.0</td>\n",
              "      <td>2.000000</td>\n",
              "      <td>40.992139</td>\n",
              "      <td>29.126753</td>\n",
              "      <td>5536.0</td>\n",
              "      <td>1487.501330</td>\n",
              "      <td>-87.000000</td>\n",
              "    </tr>\n",
              "    <tr>\n",
              "      <th>75%</th>\n",
              "      <td>3.795225e+09</td>\n",
              "      <td>331.000000</td>\n",
              "      <td>2.879388e+07</td>\n",
              "      <td>2133.0</td>\n",
              "      <td>2.000000</td>\n",
              "      <td>40.992211</td>\n",
              "      <td>29.126796</td>\n",
              "      <td>5536.0</td>\n",
              "      <td>2441.971093</td>\n",
              "      <td>-83.000000</td>\n",
              "    </tr>\n",
              "    <tr>\n",
              "      <th>max</th>\n",
              "      <td>3.927653e+09</td>\n",
              "      <td>1055.000000</td>\n",
              "      <td>3.573413e+07</td>\n",
              "      <td>2133.0</td>\n",
              "      <td>4.000000</td>\n",
              "      <td>41.396288</td>\n",
              "      <td>32.435247</td>\n",
              "      <td>5536.0</td>\n",
              "      <td>94675.469987</td>\n",
              "      <td>-33.000000</td>\n",
              "    </tr>\n",
              "  </tbody>\n",
              "</table>\n",
              "</div>"
            ],
            "text/plain": [
              "                 id      vendor_id  subscriber_id  merchant_id    signal_type  \\\n",
              "count  1.252500e+05  125250.000000   1.252500e+05     125250.0  125250.000000   \n",
              "mean   3.315534e+09     175.660072   2.201998e+07       2133.0       2.254930   \n",
              "std    4.886681e+08     108.902448   8.206018e+06          0.0       0.666989   \n",
              "min    2.338573e+09       6.000000   2.699200e+04       2133.0       2.000000   \n",
              "25%    2.884233e+09     110.000000   1.645927e+07       2133.0       2.000000   \n",
              "50%    3.387717e+09     135.000000   2.362873e+07       2133.0       2.000000   \n",
              "75%    3.795225e+09     331.000000   2.879388e+07       2133.0       2.000000   \n",
              "max    3.927653e+09    1055.000000   3.573413e+07       2133.0       4.000000   \n",
              "\n",
              "            latitude      longitude  dongle_id      distance          rssi  \n",
              "count  124279.000000  124279.000000   125250.0  89359.000000  89352.000000  \n",
              "mean       40.993776      29.124155     5536.0   1744.333692    -86.252820  \n",
              "std         0.021561       0.030560        0.0   1248.056995      6.332788  \n",
              "min        36.878855      27.535459     5536.0      0.027826   -116.000000  \n",
              "25%        40.992013      29.126663     5536.0    888.904863    -90.000000  \n",
              "50%        40.992139      29.126753     5536.0   1487.501330    -87.000000  \n",
              "75%        40.992211      29.126796     5536.0   2441.971093    -83.000000  \n",
              "max        41.396288      32.435247     5536.0  94675.469987    -33.000000  "
            ]
          },
          "metadata": {
            "tags": []
          },
          "execution_count": 5
        }
      ]
    },
    {
      "metadata": {
        "id": "agrzjmT9V15T",
        "colab_type": "text"
      },
      "cell_type": "markdown",
      "source": [
        "Now we've tidied up the data a little, we will start aggregating the data, getting some summary information at a daily level\n"
      ]
    },
    {
      "metadata": {
        "id": "B5_60U3NV0dJ",
        "colab_type": "code",
        "outputId": "883b19fa-591c-4cc9-eeef-749979c4add8",
        "colab": {
          "base_uri": "https://localhost:8080/",
          "height": 493
        }
      },
      "cell_type": "code",
      "source": [
        "#convert entry date to datetime format\n",
        "raw_data['entry_date'] = pd.to_datetime(raw_data['entry_date'])\n",
        "\n",
        "#create new column that just has date, not time\n",
        "raw_data['date_minus_time'] = raw_data[\"entry_date\"].apply( lambda df : \n",
        "datetime.datetime(year=df.year, month=df.month, day=df.day))\t\n",
        "\n",
        "#calculate number of unique subscriber_id's for each date \n",
        "visit_count = raw_data.groupby(['date_minus_time'])['subscriber_id'].nunique()\n",
        "#calculate number of unique exit stamps (could be sales) per day    \n",
        "exit_count = raw_data.groupby(['date_minus_time'])['exit_date'].nunique()\n",
        "#calculate means for distance and rssi by day\n",
        "avg_dist = raw_data.groupby(['date_minus_time'])['distance'].mean()\n",
        "avg_rssi = raw_data.groupby(['date_minus_time'])['rssi'].mean()\n",
        "\n",
        "print(visit_count.head())\n",
        "print(exit_count.head())\n",
        "print(avg_dist.head())\n",
        "print(avg_rssi.head())"
      ],
      "execution_count": 6,
      "outputs": [
        {
          "output_type": "stream",
          "text": [
            "date_minus_time\n",
            "2017-05-01    100\n",
            "2017-05-02    112\n",
            "2017-05-03    112\n",
            "2017-05-04    100\n",
            "2017-05-05    108\n",
            "Name: subscriber_id, dtype: int64\n",
            "date_minus_time\n",
            "2017-05-01    102\n",
            "2017-05-02    147\n",
            "2017-05-03    146\n",
            "2017-05-04    105\n",
            "2017-05-05    161\n",
            "Name: exit_date, dtype: int64\n",
            "date_minus_time\n",
            "2017-05-01    1569.171447\n",
            "2017-05-02    1764.830439\n",
            "2017-05-03    1649.324647\n",
            "2017-05-04    2297.451138\n",
            "2017-05-05    1545.418285\n",
            "Name: distance, dtype: float64\n",
            "date_minus_time\n",
            "2017-05-01   -84.957006\n",
            "2017-05-02   -86.655592\n",
            "2017-05-03   -86.161916\n",
            "2017-05-04   -85.913717\n",
            "2017-05-05   -87.802835\n",
            "Name: rssi, dtype: float64\n"
          ],
          "name": "stdout"
        }
      ]
    },
    {
      "metadata": {
        "id": "ak96pi2mWS07",
        "colab_type": "text"
      },
      "cell_type": "markdown",
      "source": [
        "Next lets try and understand how long on average a customer spends in the shop each day"
      ]
    },
    {
      "metadata": {
        "id": "PS1EDlBQWRQT",
        "colab_type": "code",
        "outputId": "ee5e87fd-48e4-48b9-eaf6-756379b7c1d6",
        "colab": {
          "base_uri": "https://localhost:8080/",
          "height": 136
        }
      },
      "cell_type": "code",
      "source": [
        "#create unique subscriber/date column\n",
        "raw_data['unique_user_date'] = raw_data['subscriber_id'].map(str) + raw_data['date_minus_time'].map(str) \n",
        "\n",
        "#calculate time difference between subsequent entries for a user on a given day\n",
        "raw_data['diff'] = raw_data.sort_values(['unique_user_date', 'entry_date']).groupby('unique_user_date')['entry_date'].diff()\n",
        "\n",
        "#calculate total stay duration per user per day - checked a few rows against the raw data and it seems to have worked\n",
        "duration_calcs = raw_data.groupby(['unique_user_date', 'date_minus_time'])['diff'].sum()\n",
        "#expand the output back in to a dataframe for further aggregation\n",
        "duration_calcs = pd.DataFrame(duration_calcs).reset_index()\n",
        "#convert the time delta in to a numeric value (number of seconds) to enable mean calculation\n",
        "duration_calcs['diff_new'] = duration_calcs['diff'].dt.total_seconds()\n",
        "#calculate average stay duration per day\n",
        "avg_stay = duration_calcs.groupby(['date_minus_time'])['diff_new'].mean()\n",
        "\n",
        "print(avg_stay.head())"
      ],
      "execution_count": 7,
      "outputs": [
        {
          "output_type": "stream",
          "text": [
            "date_minus_time\n",
            "2017-05-01    1419.360000\n",
            "2017-05-02    2984.330357\n",
            "2017-05-03    3952.464286\n",
            "2017-05-04    2667.450000\n",
            "2017-05-05    3795.583333\n",
            "Name: diff_new, dtype: float64\n"
          ],
          "name": "stdout"
        }
      ]
    },
    {
      "metadata": {
        "id": "nmwa0n9lXGxv",
        "colab_type": "code",
        "outputId": "3dbf2e1f-554c-4115-d9bc-2f864e088b99",
        "colab": {
          "base_uri": "https://localhost:8080/",
          "height": 235
        }
      },
      "cell_type": "code",
      "source": [
        "#combine visits, exits, stay length, distance and rssi in to one data frame\n",
        "model_data = pd.concat((visit_count.rename('Visits'),\n",
        "                        exit_count.rename('Exits'),\n",
        "                        avg_stay.rename('Avg_Stay'),\n",
        "                        avg_dist.rename('Avg_Dist'),\n",
        "                        avg_rssi.rename('Avg_rssi')), axis = 1)\n",
        "\n",
        "model_data.head()"
      ],
      "execution_count": 8,
      "outputs": [
        {
          "output_type": "execute_result",
          "data": {
            "text/html": [
              "<div>\n",
              "<style scoped>\n",
              "    .dataframe tbody tr th:only-of-type {\n",
              "        vertical-align: middle;\n",
              "    }\n",
              "\n",
              "    .dataframe tbody tr th {\n",
              "        vertical-align: top;\n",
              "    }\n",
              "\n",
              "    .dataframe thead th {\n",
              "        text-align: right;\n",
              "    }\n",
              "</style>\n",
              "<table border=\"1\" class=\"dataframe\">\n",
              "  <thead>\n",
              "    <tr style=\"text-align: right;\">\n",
              "      <th></th>\n",
              "      <th>Visits</th>\n",
              "      <th>Exits</th>\n",
              "      <th>Avg_Stay</th>\n",
              "      <th>Avg_Dist</th>\n",
              "      <th>Avg_rssi</th>\n",
              "    </tr>\n",
              "    <tr>\n",
              "      <th>date_minus_time</th>\n",
              "      <th></th>\n",
              "      <th></th>\n",
              "      <th></th>\n",
              "      <th></th>\n",
              "      <th></th>\n",
              "    </tr>\n",
              "  </thead>\n",
              "  <tbody>\n",
              "    <tr>\n",
              "      <th>2017-05-01</th>\n",
              "      <td>100</td>\n",
              "      <td>102</td>\n",
              "      <td>1419.360000</td>\n",
              "      <td>1569.171447</td>\n",
              "      <td>-84.957006</td>\n",
              "    </tr>\n",
              "    <tr>\n",
              "      <th>2017-05-02</th>\n",
              "      <td>112</td>\n",
              "      <td>147</td>\n",
              "      <td>2984.330357</td>\n",
              "      <td>1764.830439</td>\n",
              "      <td>-86.655592</td>\n",
              "    </tr>\n",
              "    <tr>\n",
              "      <th>2017-05-03</th>\n",
              "      <td>112</td>\n",
              "      <td>146</td>\n",
              "      <td>3952.464286</td>\n",
              "      <td>1649.324647</td>\n",
              "      <td>-86.161916</td>\n",
              "    </tr>\n",
              "    <tr>\n",
              "      <th>2017-05-04</th>\n",
              "      <td>100</td>\n",
              "      <td>105</td>\n",
              "      <td>2667.450000</td>\n",
              "      <td>2297.451138</td>\n",
              "      <td>-85.913717</td>\n",
              "    </tr>\n",
              "    <tr>\n",
              "      <th>2017-05-05</th>\n",
              "      <td>108</td>\n",
              "      <td>161</td>\n",
              "      <td>3795.583333</td>\n",
              "      <td>1545.418285</td>\n",
              "      <td>-87.802835</td>\n",
              "    </tr>\n",
              "  </tbody>\n",
              "</table>\n",
              "</div>"
            ],
            "text/plain": [
              "                 Visits  Exits     Avg_Stay     Avg_Dist   Avg_rssi\n",
              "date_minus_time                                                    \n",
              "2017-05-01          100    102  1419.360000  1569.171447 -84.957006\n",
              "2017-05-02          112    147  2984.330357  1764.830439 -86.655592\n",
              "2017-05-03          112    146  3952.464286  1649.324647 -86.161916\n",
              "2017-05-04          100    105  2667.450000  2297.451138 -85.913717\n",
              "2017-05-05          108    161  3795.583333  1545.418285 -87.802835"
            ]
          },
          "metadata": {
            "tags": []
          },
          "execution_count": 8
        }
      ]
    },
    {
      "metadata": {
        "id": "NVPRLDIoXYa5",
        "colab_type": "text"
      },
      "cell_type": "markdown",
      "source": [
        "##Data augmentation"
      ]
    },
    {
      "metadata": {
        "id": "UPwpGaZsXayy",
        "colab_type": "text"
      },
      "cell_type": "markdown",
      "source": [
        "It's possible that there is other information that may help us in predicting visits and exits. Weather and economic data is freely available online.\n",
        "\n",
        "For ease of sharing with the group, I have saved this data in a public [github](https://github.com/tbowling87/RetailExercise) and will load this in below. The github also has the python script that was used to gather the weather data using the worldweatheronline.com APIs. The stock market data was obtained from https://www.investing.com/indices/ise-100-historical-data\n",
        " and I have filled any dates that were not in the table with the previous dates value (starting 28th April to get value for 1st May)\n"
      ]
    },
    {
      "metadata": {
        "id": "upyfrcvJY9Mj",
        "colab_type": "code",
        "outputId": "92c7bf9e-44d4-4c6c-dde0-aecce33b07d6",
        "colab": {
          "base_uri": "https://localhost:8080/",
          "height": 204
        }
      },
      "cell_type": "code",
      "source": [
        "#read in csv created using weather API script\n",
        "weather_data_url = 'https://raw.githubusercontent.com/tbowling87/RetailExercise/master/weather_data.csv'\n",
        "weather_data = pd.read_csv(weather_data_url)\n",
        "\n",
        "#convert the date column to datetime format and set the date as the index\n",
        "weather_data['date'] = pd.to_datetime(weather_data['date'])\n",
        "weather_data = weather_data.set_index('date')\n",
        "#combine with the model data\n",
        "model_data = pd.concat((model_data, weather_data), axis =1)\n",
        "\n",
        "model_data.head()"
      ],
      "execution_count": 9,
      "outputs": [
        {
          "output_type": "execute_result",
          "data": {
            "text/html": [
              "<div>\n",
              "<style scoped>\n",
              "    .dataframe tbody tr th:only-of-type {\n",
              "        vertical-align: middle;\n",
              "    }\n",
              "\n",
              "    .dataframe tbody tr th {\n",
              "        vertical-align: top;\n",
              "    }\n",
              "\n",
              "    .dataframe thead th {\n",
              "        text-align: right;\n",
              "    }\n",
              "</style>\n",
              "<table border=\"1\" class=\"dataframe\">\n",
              "  <thead>\n",
              "    <tr style=\"text-align: right;\">\n",
              "      <th></th>\n",
              "      <th>Visits</th>\n",
              "      <th>Exits</th>\n",
              "      <th>Avg_Stay</th>\n",
              "      <th>Avg_Dist</th>\n",
              "      <th>Avg_rssi</th>\n",
              "      <th>Max_Temp</th>\n",
              "      <th>Min_Temp</th>\n",
              "      <th>Precipitation</th>\n",
              "    </tr>\n",
              "  </thead>\n",
              "  <tbody>\n",
              "    <tr>\n",
              "      <th>2017-05-01</th>\n",
              "      <td>100</td>\n",
              "      <td>102</td>\n",
              "      <td>1419.360000</td>\n",
              "      <td>1569.171447</td>\n",
              "      <td>-84.957006</td>\n",
              "      <td>21</td>\n",
              "      <td>17</td>\n",
              "      <td>0.0</td>\n",
              "    </tr>\n",
              "    <tr>\n",
              "      <th>2017-05-02</th>\n",
              "      <td>112</td>\n",
              "      <td>147</td>\n",
              "      <td>2984.330357</td>\n",
              "      <td>1764.830439</td>\n",
              "      <td>-86.655592</td>\n",
              "      <td>21</td>\n",
              "      <td>19</td>\n",
              "      <td>0.0</td>\n",
              "    </tr>\n",
              "    <tr>\n",
              "      <th>2017-05-03</th>\n",
              "      <td>112</td>\n",
              "      <td>146</td>\n",
              "      <td>3952.464286</td>\n",
              "      <td>1649.324647</td>\n",
              "      <td>-86.161916</td>\n",
              "      <td>24</td>\n",
              "      <td>20</td>\n",
              "      <td>0.0</td>\n",
              "    </tr>\n",
              "    <tr>\n",
              "      <th>2017-05-04</th>\n",
              "      <td>100</td>\n",
              "      <td>105</td>\n",
              "      <td>2667.450000</td>\n",
              "      <td>2297.451138</td>\n",
              "      <td>-85.913717</td>\n",
              "      <td>24</td>\n",
              "      <td>21</td>\n",
              "      <td>0.0</td>\n",
              "    </tr>\n",
              "    <tr>\n",
              "      <th>2017-05-05</th>\n",
              "      <td>108</td>\n",
              "      <td>161</td>\n",
              "      <td>3795.583333</td>\n",
              "      <td>1545.418285</td>\n",
              "      <td>-87.802835</td>\n",
              "      <td>26</td>\n",
              "      <td>22</td>\n",
              "      <td>0.0</td>\n",
              "    </tr>\n",
              "  </tbody>\n",
              "</table>\n",
              "</div>"
            ],
            "text/plain": [
              "            Visits  Exits     Avg_Stay     Avg_Dist   Avg_rssi  Max_Temp  \\\n",
              "2017-05-01     100    102  1419.360000  1569.171447 -84.957006        21   \n",
              "2017-05-02     112    147  2984.330357  1764.830439 -86.655592        21   \n",
              "2017-05-03     112    146  3952.464286  1649.324647 -86.161916        24   \n",
              "2017-05-04     100    105  2667.450000  2297.451138 -85.913717        24   \n",
              "2017-05-05     108    161  3795.583333  1545.418285 -87.802835        26   \n",
              "\n",
              "            Min_Temp  Precipitation  \n",
              "2017-05-01        17            0.0  \n",
              "2017-05-02        19            0.0  \n",
              "2017-05-03        20            0.0  \n",
              "2017-05-04        21            0.0  \n",
              "2017-05-05        22            0.0  "
            ]
          },
          "metadata": {
            "tags": []
          },
          "execution_count": 9
        }
      ]
    },
    {
      "metadata": {
        "id": "fO8wvKpndjoF",
        "colab_type": "code",
        "outputId": "2e4f545f-e1a9-476b-c5f1-0e210b1fc5eb",
        "colab": {
          "base_uri": "https://localhost:8080/",
          "height": 235
        }
      },
      "cell_type": "code",
      "source": [
        "stock_data_url = 'https://raw.githubusercontent.com/tbowling87/RetailExercise/master/bist_100_price.csv'\n",
        "stock_data = pd.read_csv(stock_data_url)\n",
        "\n",
        "#perform similar steps as for weather data to combine with the model data\n",
        "stock_data['date'] = pd.to_datetime(stock_data['date'])\n",
        "stock_data['Price'] = pd.to_numeric(stock_data['Price'])\n",
        "stock_data = stock_data.set_index('date')\n",
        "model_data = pd.concat((model_data, stock_data), axis =1)\n",
        "model_data.head()"
      ],
      "execution_count": 10,
      "outputs": [
        {
          "output_type": "execute_result",
          "data": {
            "text/html": [
              "<div>\n",
              "<style scoped>\n",
              "    .dataframe tbody tr th:only-of-type {\n",
              "        vertical-align: middle;\n",
              "    }\n",
              "\n",
              "    .dataframe tbody tr th {\n",
              "        vertical-align: top;\n",
              "    }\n",
              "\n",
              "    .dataframe thead th {\n",
              "        text-align: right;\n",
              "    }\n",
              "</style>\n",
              "<table border=\"1\" class=\"dataframe\">\n",
              "  <thead>\n",
              "    <tr style=\"text-align: right;\">\n",
              "      <th></th>\n",
              "      <th>Visits</th>\n",
              "      <th>Exits</th>\n",
              "      <th>Avg_Stay</th>\n",
              "      <th>Avg_Dist</th>\n",
              "      <th>Avg_rssi</th>\n",
              "      <th>Max_Temp</th>\n",
              "      <th>Min_Temp</th>\n",
              "      <th>Precipitation</th>\n",
              "      <th>Price</th>\n",
              "    </tr>\n",
              "    <tr>\n",
              "      <th>date</th>\n",
              "      <th></th>\n",
              "      <th></th>\n",
              "      <th></th>\n",
              "      <th></th>\n",
              "      <th></th>\n",
              "      <th></th>\n",
              "      <th></th>\n",
              "      <th></th>\n",
              "      <th></th>\n",
              "    </tr>\n",
              "  </thead>\n",
              "  <tbody>\n",
              "    <tr>\n",
              "      <th>2017-05-01</th>\n",
              "      <td>100</td>\n",
              "      <td>102</td>\n",
              "      <td>1419.360000</td>\n",
              "      <td>1569.171447</td>\n",
              "      <td>-84.957006</td>\n",
              "      <td>21</td>\n",
              "      <td>17</td>\n",
              "      <td>0.0</td>\n",
              "      <td>94655.31</td>\n",
              "    </tr>\n",
              "    <tr>\n",
              "      <th>2017-05-02</th>\n",
              "      <td>112</td>\n",
              "      <td>147</td>\n",
              "      <td>2984.330357</td>\n",
              "      <td>1764.830439</td>\n",
              "      <td>-86.655592</td>\n",
              "      <td>21</td>\n",
              "      <td>19</td>\n",
              "      <td>0.0</td>\n",
              "      <td>94355.91</td>\n",
              "    </tr>\n",
              "    <tr>\n",
              "      <th>2017-05-03</th>\n",
              "      <td>112</td>\n",
              "      <td>146</td>\n",
              "      <td>3952.464286</td>\n",
              "      <td>1649.324647</td>\n",
              "      <td>-86.161916</td>\n",
              "      <td>24</td>\n",
              "      <td>20</td>\n",
              "      <td>0.0</td>\n",
              "      <td>93862.74</td>\n",
              "    </tr>\n",
              "    <tr>\n",
              "      <th>2017-05-04</th>\n",
              "      <td>100</td>\n",
              "      <td>105</td>\n",
              "      <td>2667.450000</td>\n",
              "      <td>2297.451138</td>\n",
              "      <td>-85.913717</td>\n",
              "      <td>24</td>\n",
              "      <td>21</td>\n",
              "      <td>0.0</td>\n",
              "      <td>93038.49</td>\n",
              "    </tr>\n",
              "    <tr>\n",
              "      <th>2017-05-05</th>\n",
              "      <td>108</td>\n",
              "      <td>161</td>\n",
              "      <td>3795.583333</td>\n",
              "      <td>1545.418285</td>\n",
              "      <td>-87.802835</td>\n",
              "      <td>26</td>\n",
              "      <td>22</td>\n",
              "      <td>0.0</td>\n",
              "      <td>93928.39</td>\n",
              "    </tr>\n",
              "  </tbody>\n",
              "</table>\n",
              "</div>"
            ],
            "text/plain": [
              "            Visits  Exits     Avg_Stay     Avg_Dist   Avg_rssi  Max_Temp  \\\n",
              "date                                                                       \n",
              "2017-05-01     100    102  1419.360000  1569.171447 -84.957006        21   \n",
              "2017-05-02     112    147  2984.330357  1764.830439 -86.655592        21   \n",
              "2017-05-03     112    146  3952.464286  1649.324647 -86.161916        24   \n",
              "2017-05-04     100    105  2667.450000  2297.451138 -85.913717        24   \n",
              "2017-05-05     108    161  3795.583333  1545.418285 -87.802835        26   \n",
              "\n",
              "            Min_Temp  Precipitation     Price  \n",
              "date                                           \n",
              "2017-05-01        17            0.0  94655.31  \n",
              "2017-05-02        19            0.0  94355.91  \n",
              "2017-05-03        20            0.0  93862.74  \n",
              "2017-05-04        21            0.0  93038.49  \n",
              "2017-05-05        22            0.0  93928.39  "
            ]
          },
          "metadata": {
            "tags": []
          },
          "execution_count": 10
        }
      ]
    },
    {
      "metadata": {
        "id": "9DxjFBEMd9y2",
        "colab_type": "text"
      },
      "cell_type": "markdown",
      "source": [
        "###noticed something odd with the very last date in the dataset, recommend removing"
      ]
    },
    {
      "metadata": {
        "id": "-IX-BLMCdozD",
        "colab_type": "code",
        "outputId": "2e785fca-8f92-4a38-dc6a-0bf316c38cad",
        "colab": {
          "base_uri": "https://localhost:8080/",
          "height": 272
        }
      },
      "cell_type": "code",
      "source": [
        "print(model_data.tail())\n",
        "\n",
        "#drop last day as only one visit occurs\n",
        "model_data = model_data.drop(model_data.index[142])"
      ],
      "execution_count": 11,
      "outputs": [
        {
          "output_type": "stream",
          "text": [
            "            Visits  Exits     Avg_Stay     Avg_Dist   Avg_rssi  Max_Temp  \\\n",
            "date                                                                       \n",
            "2017-09-16      89    106  2450.988764  1691.593434 -85.913420        28   \n",
            "2017-09-17     110    119  1996.081818  1753.105454 -85.996904        30   \n",
            "2017-09-18     107    135  2997.588785  1781.363043 -86.091967        31   \n",
            "2017-09-19     103    107  3511.349515  1876.940012 -86.093178        31   \n",
            "2017-09-20       1      0     0.000000          NaN        NaN        39   \n",
            "\n",
            "            Min_Temp  Precipitation      Price  \n",
            "date                                            \n",
            "2017-09-16        23            0.0  107741.70  \n",
            "2017-09-17        23            0.0  107741.70  \n",
            "2017-09-18        27            0.0  106534.60  \n",
            "2017-09-19        25            0.0  104917.77  \n",
            "2017-09-20        28            0.0  105323.67  \n"
          ],
          "name": "stdout"
        }
      ]
    },
    {
      "metadata": {
        "id": "PIcd1SeceoNX",
        "colab_type": "text"
      },
      "cell_type": "markdown",
      "source": [
        "It would probably be wise to standardise our features"
      ]
    },
    {
      "metadata": {
        "id": "RBTgsUrQenIq",
        "colab_type": "code",
        "outputId": "3a5ecdc8-1f20-4b71-90a8-f97275b95f7f",
        "colab": {
          "base_uri": "https://localhost:8080/",
          "height": 105
        }
      },
      "cell_type": "code",
      "source": [
        "# import the appropriate library\n",
        "from sklearn.preprocessing import StandardScaler\n",
        "\n",
        "standardized = model_data\n",
        "\n",
        "# Create scaler\n",
        "scaler = StandardScaler()\n",
        "\n",
        "# transform the data using the fitted scaler - this applies the transform using the fit\n",
        "standardized = scaler.fit_transform(standardized)\n",
        "\n"
      ],
      "execution_count": 12,
      "outputs": [
        {
          "output_type": "stream",
          "text": [
            "/usr/local/lib/python3.6/dist-packages/sklearn/preprocessing/data.py:625: DataConversionWarning: Data with input dtype int64, float64 were all converted to float64 by StandardScaler.\n",
            "  return self.partial_fit(X, y)\n",
            "/usr/local/lib/python3.6/dist-packages/sklearn/base.py:462: DataConversionWarning: Data with input dtype int64, float64 were all converted to float64 by StandardScaler.\n",
            "  return self.fit(X, **fit_params).transform(X)\n"
          ],
          "name": "stderr"
        }
      ]
    },
    {
      "metadata": {
        "id": "c5YPZcmPiPFr",
        "colab_type": "text"
      },
      "cell_type": "markdown",
      "source": [
        "#ARIMA Modelling Section"
      ]
    },
    {
      "metadata": {
        "id": "RqmT_dNmiS5M",
        "colab_type": "code",
        "colab": {}
      },
      "cell_type": "code",
      "source": [
        ""
      ],
      "execution_count": 0,
      "outputs": []
    },
    {
      "metadata": {
        "id": "EHjw6avphWyn",
        "colab_type": "text"
      },
      "cell_type": "markdown",
      "source": [
        "# SVM\n"
      ]
    },
    {
      "metadata": {
        "id": "VO5Hlq_3hZ7F",
        "colab_type": "code",
        "colab": {}
      },
      "cell_type": "code",
      "source": [
        "#create x_train x_test, y_train and y_test - use last 31 records (a month) as training data\n",
        "svm_y = standardized[:,1]\n",
        "svm_y = svm_y.reshape(-1,1)\n",
        "svm_x = np.delete(standardized,[1], axis = 1)\n",
        "\n",
        "svm_y_train = svm_y[:111, :]\n",
        "svm_y_test = svm_y[111:, :]\n",
        "svm_X_train = svm_x[:111, :]\n",
        "svm_X_test = svm_x[111:, :]"
      ],
      "execution_count": 0,
      "outputs": []
    },
    {
      "metadata": {
        "id": "_C5FeljLhl_H",
        "colab_type": "code",
        "outputId": "43e6d134-723e-4979-9df8-a09c80dffa0e",
        "colab": {
          "base_uri": "https://localhost:8080/",
          "height": 122
        }
      },
      "cell_type": "code",
      "source": [
        "#fit vanilla SVR\n",
        "from sklearn.svm import LinearSVR\n",
        "\n",
        "svm_regr = LinearSVR()\n",
        "\n",
        "svm_regr.fit(svm_X_train, svm_y_train)"
      ],
      "execution_count": 14,
      "outputs": [
        {
          "output_type": "stream",
          "text": [
            "/usr/local/lib/python3.6/dist-packages/sklearn/utils/validation.py:761: DataConversionWarning: A column-vector y was passed when a 1d array was expected. Please change the shape of y to (n_samples, ), for example using ravel().\n",
            "  y = column_or_1d(y, warn=True)\n"
          ],
          "name": "stderr"
        },
        {
          "output_type": "execute_result",
          "data": {
            "text/plain": [
              "LinearSVR(C=1.0, dual=True, epsilon=0.0, fit_intercept=True,\n",
              "     intercept_scaling=1.0, loss='epsilon_insensitive', max_iter=1000,\n",
              "     random_state=None, tol=0.0001, verbose=0)"
            ]
          },
          "metadata": {
            "tags": []
          },
          "execution_count": 14
        }
      ]
    },
    {
      "metadata": {
        "id": "APX4nyhRhrea",
        "colab_type": "code",
        "colab": {}
      },
      "cell_type": "code",
      "source": [
        "#make predictions\n",
        "svm_preds = svm_regr.predict(svm_X_test)"
      ],
      "execution_count": 0,
      "outputs": []
    },
    {
      "metadata": {
        "id": "Az4bexM_hvtK",
        "colab_type": "code",
        "colab": {}
      },
      "cell_type": "code",
      "source": [
        "# invert scaling for forecast to revert data into original scale\n",
        "inv_yhat = np.concatenate((svm_X_test[:,0].reshape(-1,1), svm_preds.reshape(-1,1), svm_X_test[:, 1:]), axis=1)\n",
        "inv_yhat = scaler.inverse_transform(inv_yhat)\n",
        "inv_yhat = inv_yhat[:,1]\n",
        "\n",
        "# invert scaling for actual\n",
        "inv_y = np.concatenate((svm_X_test[:,0].reshape(-1,1),svm_y_test, svm_X_test[:, 1:]), axis=1)\n",
        "inv_y = scaler.inverse_transform(inv_y)\n",
        "#Actual output\n",
        "inv_y = inv_y[:,1]"
      ],
      "execution_count": 0,
      "outputs": []
    },
    {
      "metadata": {
        "id": "75TV_ol4h1M5",
        "colab_type": "code",
        "outputId": "a113561d-ddee-4b7b-f140-2c3117e8f80c",
        "colab": {
          "base_uri": "https://localhost:8080/",
          "height": 34
        }
      },
      "cell_type": "code",
      "source": [
        "# calculate RMSE\n",
        "import math\n",
        "from sklearn.metrics import mean_squared_error\n",
        "rmse = math.sqrt(mean_squared_error(inv_y, inv_yhat))\n",
        "print('Test RMSE: %.3f' % rmse)"
      ],
      "execution_count": 17,
      "outputs": [
        {
          "output_type": "stream",
          "text": [
            "Test RMSE: 15.615\n"
          ],
          "name": "stdout"
        }
      ]
    },
    {
      "metadata": {
        "id": "HBE6-mnNh9ZY",
        "colab_type": "code",
        "outputId": "f17de1a7-c059-4683-acc0-253d641e5d77",
        "colab": {
          "base_uri": "https://localhost:8080/",
          "height": 376
        }
      },
      "cell_type": "code",
      "source": [
        "import matplotlib.pyplot as plt\n",
        "#visualise the results\n",
        "plt.plot(inv_y, color='red', label='real exits')\n",
        "plt.plot(inv_yhat, color='blue', label='predicted exits')\n",
        "plt.title('Store Exits Prediction')\n",
        "plt.xlabel('Time')\n",
        "plt.ylabel('Exits')\n",
        "plt.legend()\n",
        "plt.show()"
      ],
      "execution_count": 18,
      "outputs": [
        {
          "output_type": "display_data",
          "data": {
            "image/png": "[encoded data removed]",
            "text/plain": [
              "<Figure size 576x396 with 1 Axes>"
            ]
          },
          "metadata": {
            "tags": []
          }
        }
      ]
    },
    {
      "metadata": {
        "id": "wEv6NTCo6HDr",
        "colab_type": "code",
        "outputId": "170d348b-e7f9-4dd4-9a81-78882d109dec",
        "colab": {
          "base_uri": "https://localhost:8080/",
          "height": 477
        }
      },
      "cell_type": "code",
      "source": [
        "from sklearn.svm import SVR\n",
        "\n",
        "svm_regr2 = SVR()\n",
        "\n",
        "svm_regr2.fit(svm_X_train, svm_y_train)\n",
        "\n",
        "svm_preds2 = svm_regr2.predict(svm_X_test)\n",
        "\n",
        "# invert scaling for forecast to revert data into original form\n",
        "inv_yhat2 = np.concatenate((svm_X_test[:,0].reshape(-1,1), svm_preds2.reshape(-1,1), svm_X_test[:, 1:]), axis=1)\n",
        "inv_yhat2 = scaler.inverse_transform(inv_yhat2)\n",
        "inv_yhat2 = inv_yhat2[:,1]\n",
        "\n",
        "\n",
        "# calculate RMSE\n",
        "rmse2 = math.sqrt(mean_squared_error(inv_y, inv_yhat2))\n",
        "print('Test RMSE: %.3f' % rmse2)\n",
        "\n",
        "\n",
        "#visualise the results\n",
        "plt.plot(inv_y, color='red', label='real exits')\n",
        "plt.plot(inv_yhat2, color='blue', label='predicted exits')\n",
        "plt.title('Store Exits Prediction')\n",
        "plt.xlabel('Time')\n",
        "plt.ylabel('Exits')\n",
        "plt.legend()\n",
        "plt.show()"
      ],
      "execution_count": 0,
      "outputs": [
        {
          "output_type": "stream",
          "text": [
            "/usr/local/lib/python3.6/dist-packages/sklearn/utils/validation.py:761: DataConversionWarning: A column-vector y was passed when a 1d array was expected. Please change the shape of y to (n_samples, ), for example using ravel().\n",
            "  y = column_or_1d(y, warn=True)\n",
            "/usr/local/lib/python3.6/dist-packages/sklearn/svm/base.py:196: FutureWarning: The default value of gamma will change from 'auto' to 'scale' in version 0.22 to account better for unscaled features. Set gamma explicitly to 'auto' or 'scale' to avoid this warning.\n",
            "  \"avoid this warning.\", FutureWarning)\n"
          ],
          "name": "stderr"
        },
        {
          "output_type": "stream",
          "text": [
            "Test RMSE: 18.506\n"
          ],
          "name": "stdout"
        },
        {
          "output_type": "display_data",
          "data": {
            "image/png": "[encoded data removed]",
            "text/plain": [
              "<Figure size 576x396 with 1 Axes>"
            ]
          },
          "metadata": {
            "tags": []
          }
        }
      ]
    },
    {
      "metadata": {
        "id": "kU9GvQI43I81",
        "colab_type": "code",
        "colab": {
          "base_uri": "https://localhost:8080/",
          "height": 6242
        },
        "outputId": "2aac2a1e-feb8-4f09-d254-cbc76cab2461"
      },
      "cell_type": "code",
      "source": [
        "#implement grid search over \n",
        "from sklearn import svm, model_selection\n",
        "\n",
        "kernels = ['linear', 'rbf', 'poly']\n",
        "Cs = [0.001, 0.01, 0.1, 1, 10]\n",
        "gammas = [0.001, 0.01, 0.1, 1]\n",
        "param_grid = {'kernel': kernels, 'C': Cs, 'gamma' : gammas}\n",
        "   \n",
        "grid_search = model_selection.GridSearchCV(svm.SVR(), param_grid)\n",
        "grid_search.fit(svm_X_train, svm_y_train)\n",
        "grid_search.best_params_"
      ],
      "execution_count": 22,
      "outputs": [
        {
          "output_type": "stream",
          "text": [
            "/usr/local/lib/python3.6/dist-packages/sklearn/model_selection/_split.py:2053: FutureWarning: You should specify a value for 'cv' instead of relying on the default value. The default value will change from 3 to 5 in version 0.22.\n",
            "  warnings.warn(CV_WARNING, FutureWarning)\n",
            "/usr/local/lib/python3.6/dist-packages/sklearn/utils/validation.py:761: DataConversionWarning: A column-vector y was passed when a 1d array was expected. Please change the shape of y to (n_samples, ), for example using ravel().\n",
            "  y = column_or_1d(y, warn=True)\n",
            "/usr/local/lib/python3.6/dist-packages/sklearn/utils/validation.py:761: DataConversionWarning: A column-vector y was passed when a 1d array was expected. Please change the shape of y to (n_samples, ), for example using ravel().\n",
            "  y = column_or_1d(y, warn=True)\n",
            "/usr/local/lib/python3.6/dist-packages/sklearn/utils/validation.py:761: DataConversionWarning: A column-vector y was passed when a 1d array was expected. Please change the shape of y to (n_samples, ), for example using ravel().\n",
            "  y = column_or_1d(y, warn=True)\n",
            "/usr/local/lib/python3.6/dist-packages/sklearn/utils/validation.py:761: DataConversionWarning: A column-vector y was passed when a 1d array was expected. Please change the shape of y to (n_samples, ), for example using ravel().\n",
            "  y = column_or_1d(y, warn=True)\n",
            "/usr/local/lib/python3.6/dist-packages/sklearn/utils/validation.py:761: DataConversionWarning: A column-vector y was passed when a 1d array was expected. Please change the shape of y to (n_samples, ), for example using ravel().\n",
            "  y = column_or_1d(y, warn=True)\n",
            "/usr/local/lib/python3.6/dist-packages/sklearn/utils/validation.py:761: DataConversionWarning: A column-vector y was passed when a 1d array was expected. Please change the shape of y to (n_samples, ), for example using ravel().\n",
            "  y = column_or_1d(y, warn=True)\n",
            "/usr/local/lib/python3.6/dist-packages/sklearn/utils/validation.py:761: DataConversionWarning: A column-vector y was passed when a 1d array was expected. Please change the shape of y to (n_samples, ), for example using ravel().\n",
            "  y = column_or_1d(y, warn=True)\n",
            "/usr/local/lib/python3.6/dist-packages/sklearn/utils/validation.py:761: DataConversionWarning: A column-vector y was passed when a 1d array was expected. Please change the shape of y to (n_samples, ), for example using ravel().\n",
            "  y = column_or_1d(y, warn=True)\n",
            "/usr/local/lib/python3.6/dist-packages/sklearn/utils/validation.py:761: DataConversionWarning: A column-vector y was passed when a 1d array was expected. Please change the shape of y to (n_samples, ), for example using ravel().\n",
            "  y = column_or_1d(y, warn=True)\n",
            "/usr/local/lib/python3.6/dist-packages/sklearn/utils/validation.py:761: DataConversionWarning: A column-vector y was passed when a 1d array was expected. Please change the shape of y to (n_samples, ), for example using ravel().\n",
            "  y = column_or_1d(y, warn=True)\n",
            "/usr/local/lib/python3.6/dist-packages/sklearn/utils/validation.py:761: DataConversionWarning: A column-vector y was passed when a 1d array was expected. Please change the shape of y to (n_samples, ), for example using ravel().\n",
            "  y = column_or_1d(y, warn=True)\n",
            "/usr/local/lib/python3.6/dist-packages/sklearn/utils/validation.py:761: DataConversionWarning: A column-vector y was passed when a 1d array was expected. Please change the shape of y to (n_samples, ), for example using ravel().\n",
            "  y = column_or_1d(y, warn=True)\n",
            "/usr/local/lib/python3.6/dist-packages/sklearn/utils/validation.py:761: DataConversionWarning: A column-vector y was passed when a 1d array was expected. Please change the shape of y to (n_samples, ), for example using ravel().\n",
            "  y = column_or_1d(y, warn=True)\n",
            "/usr/local/lib/python3.6/dist-packages/sklearn/utils/validation.py:761: DataConversionWarning: A column-vector y was passed when a 1d array was expected. Please change the shape of y to (n_samples, ), for example using ravel().\n",
            "  y = column_or_1d(y, warn=True)\n",
            "/usr/local/lib/python3.6/dist-packages/sklearn/utils/validation.py:761: DataConversionWarning: A column-vector y was passed when a 1d array was expected. Please change the shape of y to (n_samples, ), for example using ravel().\n",
            "  y = column_or_1d(y, warn=True)\n",
            "/usr/local/lib/python3.6/dist-packages/sklearn/utils/validation.py:761: DataConversionWarning: A column-vector y was passed when a 1d array was expected. Please change the shape of y to (n_samples, ), for example using ravel().\n",
            "  y = column_or_1d(y, warn=True)\n",
            "/usr/local/lib/python3.6/dist-packages/sklearn/utils/validation.py:761: DataConversionWarning: A column-vector y was passed when a 1d array was expected. Please change the shape of y to (n_samples, ), for example using ravel().\n",
            "  y = column_or_1d(y, warn=True)\n",
            "/usr/local/lib/python3.6/dist-packages/sklearn/utils/validation.py:761: DataConversionWarning: A column-vector y was passed when a 1d array was expected. Please change the shape of y to (n_samples, ), for example using ravel().\n",
            "  y = column_or_1d(y, warn=True)\n",
            "/usr/local/lib/python3.6/dist-packages/sklearn/utils/validation.py:761: DataConversionWarning: A column-vector y was passed when a 1d array was expected. Please change the shape of y to (n_samples, ), for example using ravel().\n",
            "  y = column_or_1d(y, warn=True)\n",
            "/usr/local/lib/python3.6/dist-packages/sklearn/utils/validation.py:761: DataConversionWarning: A column-vector y was passed when a 1d array was expected. Please change the shape of y to (n_samples, ), for example using ravel().\n",
            "  y = column_or_1d(y, warn=True)\n",
            "/usr/local/lib/python3.6/dist-packages/sklearn/utils/validation.py:761: DataConversionWarning: A column-vector y was passed when a 1d array was expected. Please change the shape of y to (n_samples, ), for example using ravel().\n",
            "  y = column_or_1d(y, warn=True)\n",
            "/usr/local/lib/python3.6/dist-packages/sklearn/utils/validation.py:761: DataConversionWarning: A column-vector y was passed when a 1d array was expected. Please change the shape of y to (n_samples, ), for example using ravel().\n",
            "  y = column_or_1d(y, warn=True)\n",
            "/usr/local/lib/python3.6/dist-packages/sklearn/utils/validation.py:761: DataConversionWarning: A column-vector y was passed when a 1d array was expected. Please change the shape of y to (n_samples, ), for example using ravel().\n",
            "  y = column_or_1d(y, warn=True)\n",
            "/usr/local/lib/python3.6/dist-packages/sklearn/utils/validation.py:761: DataConversionWarning: A column-vector y was passed when a 1d array was expected. Please change the shape of y to (n_samples, ), for example using ravel().\n",
            "  y = column_or_1d(y, warn=True)\n",
            "/usr/local/lib/python3.6/dist-packages/sklearn/utils/validation.py:761: DataConversionWarning: A column-vector y was passed when a 1d array was expected. Please change the shape of y to (n_samples, ), for example using ravel().\n",
            "  y = column_or_1d(y, warn=True)\n",
            "/usr/local/lib/python3.6/dist-packages/sklearn/utils/validation.py:761: DataConversionWarning: A column-vector y was passed when a 1d array was expected. Please change the shape of y to (n_samples, ), for example using ravel().\n",
            "  y = column_or_1d(y, warn=True)\n",
            "/usr/local/lib/python3.6/dist-packages/sklearn/utils/validation.py:761: DataConversionWarning: A column-vector y was passed when a 1d array was expected. Please change the shape of y to (n_samples, ), for example using ravel().\n",
            "  y = column_or_1d(y, warn=True)\n",
            "/usr/local/lib/python3.6/dist-packages/sklearn/utils/validation.py:761: DataConversionWarning: A column-vector y was passed when a 1d array was expected. Please change the shape of y to (n_samples, ), for example using ravel().\n",
            "  y = column_or_1d(y, warn=True)\n",
            "/usr/local/lib/python3.6/dist-packages/sklearn/utils/validation.py:761: DataConversionWarning: A column-vector y was passed when a 1d array was expected. Please change the shape of y to (n_samples, ), for example using ravel().\n",
            "  y = column_or_1d(y, warn=True)\n",
            "/usr/local/lib/python3.6/dist-packages/sklearn/utils/validation.py:761: DataConversionWarning: A column-vector y was passed when a 1d array was expected. Please change the shape of y to (n_samples, ), for example using ravel().\n",
            "  y = column_or_1d(y, warn=True)\n",
            "/usr/local/lib/python3.6/dist-packages/sklearn/utils/validation.py:761: DataConversionWarning: A column-vector y was passed when a 1d array was expected. Please change the shape of y to (n_samples, ), for example using ravel().\n",
            "  y = column_or_1d(y, warn=True)\n",
            "/usr/local/lib/python3.6/dist-packages/sklearn/utils/validation.py:761: DataConversionWarning: A column-vector y was passed when a 1d array was expected. Please change the shape of y to (n_samples, ), for example using ravel().\n",
            "  y = column_or_1d(y, warn=True)\n",
            "/usr/local/lib/python3.6/dist-packages/sklearn/utils/validation.py:761: DataConversionWarning: A column-vector y was passed when a 1d array was expected. Please change the shape of y to (n_samples, ), for example using ravel().\n",
            "  y = column_or_1d(y, warn=True)\n",
            "/usr/local/lib/python3.6/dist-packages/sklearn/utils/validation.py:761: DataConversionWarning: A column-vector y was passed when a 1d array was expected. Please change the shape of y to (n_samples, ), for example using ravel().\n",
            "  y = column_or_1d(y, warn=True)\n",
            "/usr/local/lib/python3.6/dist-packages/sklearn/utils/validation.py:761: DataConversionWarning: A column-vector y was passed when a 1d array was expected. Please change the shape of y to (n_samples, ), for example using ravel().\n",
            "  y = column_or_1d(y, warn=True)\n",
            "/usr/local/lib/python3.6/dist-packages/sklearn/utils/validation.py:761: DataConversionWarning: A column-vector y was passed when a 1d array was expected. Please change the shape of y to (n_samples, ), for example using ravel().\n",
            "  y = column_or_1d(y, warn=True)\n",
            "/usr/local/lib/python3.6/dist-packages/sklearn/utils/validation.py:761: DataConversionWarning: A column-vector y was passed when a 1d array was expected. Please change the shape of y to (n_samples, ), for example using ravel().\n",
            "  y = column_or_1d(y, warn=True)\n",
            "/usr/local/lib/python3.6/dist-packages/sklearn/utils/validation.py:761: DataConversionWarning: A column-vector y was passed when a 1d array was expected. Please change the shape of y to (n_samples, ), for example using ravel().\n",
            "  y = column_or_1d(y, warn=True)\n",
            "/usr/local/lib/python3.6/dist-packages/sklearn/utils/validation.py:761: DataConversionWarning: A column-vector y was passed when a 1d array was expected. Please change the shape of y to (n_samples, ), for example using ravel().\n",
            "  y = column_or_1d(y, warn=True)\n",
            "/usr/local/lib/python3.6/dist-packages/sklearn/utils/validation.py:761: DataConversionWarning: A column-vector y was passed when a 1d array was expected. Please change the shape of y to (n_samples, ), for example using ravel().\n",
            "  y = column_or_1d(y, warn=True)\n",
            "/usr/local/lib/python3.6/dist-packages/sklearn/utils/validation.py:761: DataConversionWarning: A column-vector y was passed when a 1d array was expected. Please change the shape of y to (n_samples, ), for example using ravel().\n",
            "  y = column_or_1d(y, warn=True)\n",
            "/usr/local/lib/python3.6/dist-packages/sklearn/utils/validation.py:761: DataConversionWarning: A column-vector y was passed when a 1d array was expected. Please change the shape of y to (n_samples, ), for example using ravel().\n",
            "  y = column_or_1d(y, warn=True)\n",
            "/usr/local/lib/python3.6/dist-packages/sklearn/utils/validation.py:761: DataConversionWarning: A column-vector y was passed when a 1d array was expected. Please change the shape of y to (n_samples, ), for example using ravel().\n",
            "  y = column_or_1d(y, warn=True)\n",
            "/usr/local/lib/python3.6/dist-packages/sklearn/utils/validation.py:761: DataConversionWarning: A column-vector y was passed when a 1d array was expected. Please change the shape of y to (n_samples, ), for example using ravel().\n",
            "  y = column_or_1d(y, warn=True)\n",
            "/usr/local/lib/python3.6/dist-packages/sklearn/utils/validation.py:761: DataConversionWarning: A column-vector y was passed when a 1d array was expected. Please change the shape of y to (n_samples, ), for example using ravel().\n",
            "  y = column_or_1d(y, warn=True)\n",
            "/usr/local/lib/python3.6/dist-packages/sklearn/utils/validation.py:761: DataConversionWarning: A column-vector y was passed when a 1d array was expected. Please change the shape of y to (n_samples, ), for example using ravel().\n",
            "  y = column_or_1d(y, warn=True)\n",
            "/usr/local/lib/python3.6/dist-packages/sklearn/utils/validation.py:761: DataConversionWarning: A column-vector y was passed when a 1d array was expected. Please change the shape of y to (n_samples, ), for example using ravel().\n",
            "  y = column_or_1d(y, warn=True)\n",
            "/usr/local/lib/python3.6/dist-packages/sklearn/utils/validation.py:761: DataConversionWarning: A column-vector y was passed when a 1d array was expected. Please change the shape of y to (n_samples, ), for example using ravel().\n",
            "  y = column_or_1d(y, warn=True)\n",
            "/usr/local/lib/python3.6/dist-packages/sklearn/utils/validation.py:761: DataConversionWarning: A column-vector y was passed when a 1d array was expected. Please change the shape of y to (n_samples, ), for example using ravel().\n",
            "  y = column_or_1d(y, warn=True)\n",
            "/usr/local/lib/python3.6/dist-packages/sklearn/utils/validation.py:761: DataConversionWarning: A column-vector y was passed when a 1d array was expected. Please change the shape of y to (n_samples, ), for example using ravel().\n",
            "  y = column_or_1d(y, warn=True)\n",
            "/usr/local/lib/python3.6/dist-packages/sklearn/utils/validation.py:761: DataConversionWarning: A column-vector y was passed when a 1d array was expected. Please change the shape of y to (n_samples, ), for example using ravel().\n",
            "  y = column_or_1d(y, warn=True)\n",
            "/usr/local/lib/python3.6/dist-packages/sklearn/utils/validation.py:761: DataConversionWarning: A column-vector y was passed when a 1d array was expected. Please change the shape of y to (n_samples, ), for example using ravel().\n",
            "  y = column_or_1d(y, warn=True)\n",
            "/usr/local/lib/python3.6/dist-packages/sklearn/utils/validation.py:761: DataConversionWarning: A column-vector y was passed when a 1d array was expected. Please change the shape of y to (n_samples, ), for example using ravel().\n",
            "  y = column_or_1d(y, warn=True)\n",
            "/usr/local/lib/python3.6/dist-packages/sklearn/utils/validation.py:761: DataConversionWarning: A column-vector y was passed when a 1d array was expected. Please change the shape of y to (n_samples, ), for example using ravel().\n",
            "  y = column_or_1d(y, warn=True)\n",
            "/usr/local/lib/python3.6/dist-packages/sklearn/utils/validation.py:761: DataConversionWarning: A column-vector y was passed when a 1d array was expected. Please change the shape of y to (n_samples, ), for example using ravel().\n",
            "  y = column_or_1d(y, warn=True)\n",
            "/usr/local/lib/python3.6/dist-packages/sklearn/utils/validation.py:761: DataConversionWarning: A column-vector y was passed when a 1d array was expected. Please change the shape of y to (n_samples, ), for example using ravel().\n",
            "  y = column_or_1d(y, warn=True)\n",
            "/usr/local/lib/python3.6/dist-packages/sklearn/utils/validation.py:761: DataConversionWarning: A column-vector y was passed when a 1d array was expected. Please change the shape of y to (n_samples, ), for example using ravel().\n",
            "  y = column_or_1d(y, warn=True)\n",
            "/usr/local/lib/python3.6/dist-packages/sklearn/utils/validation.py:761: DataConversionWarning: A column-vector y was passed when a 1d array was expected. Please change the shape of y to (n_samples, ), for example using ravel().\n",
            "  y = column_or_1d(y, warn=True)\n",
            "/usr/local/lib/python3.6/dist-packages/sklearn/utils/validation.py:761: DataConversionWarning: A column-vector y was passed when a 1d array was expected. Please change the shape of y to (n_samples, ), for example using ravel().\n",
            "  y = column_or_1d(y, warn=True)\n",
            "/usr/local/lib/python3.6/dist-packages/sklearn/utils/validation.py:761: DataConversionWarning: A column-vector y was passed when a 1d array was expected. Please change the shape of y to (n_samples, ), for example using ravel().\n",
            "  y = column_or_1d(y, warn=True)\n",
            "/usr/local/lib/python3.6/dist-packages/sklearn/utils/validation.py:761: DataConversionWarning: A column-vector y was passed when a 1d array was expected. Please change the shape of y to (n_samples, ), for example using ravel().\n",
            "  y = column_or_1d(y, warn=True)\n",
            "/usr/local/lib/python3.6/dist-packages/sklearn/utils/validation.py:761: DataConversionWarning: A column-vector y was passed when a 1d array was expected. Please change the shape of y to (n_samples, ), for example using ravel().\n",
            "  y = column_or_1d(y, warn=True)\n",
            "/usr/local/lib/python3.6/dist-packages/sklearn/utils/validation.py:761: DataConversionWarning: A column-vector y was passed when a 1d array was expected. Please change the shape of y to (n_samples, ), for example using ravel().\n",
            "  y = column_or_1d(y, warn=True)\n",
            "/usr/local/lib/python3.6/dist-packages/sklearn/utils/validation.py:761: DataConversionWarning: A column-vector y was passed when a 1d array was expected. Please change the shape of y to (n_samples, ), for example using ravel().\n",
            "  y = column_or_1d(y, warn=True)\n",
            "/usr/local/lib/python3.6/dist-packages/sklearn/utils/validation.py:761: DataConversionWarning: A column-vector y was passed when a 1d array was expected. Please change the shape of y to (n_samples, ), for example using ravel().\n",
            "  y = column_or_1d(y, warn=True)\n",
            "/usr/local/lib/python3.6/dist-packages/sklearn/utils/validation.py:761: DataConversionWarning: A column-vector y was passed when a 1d array was expected. Please change the shape of y to (n_samples, ), for example using ravel().\n",
            "  y = column_or_1d(y, warn=True)\n",
            "/usr/local/lib/python3.6/dist-packages/sklearn/utils/validation.py:761: DataConversionWarning: A column-vector y was passed when a 1d array was expected. Please change the shape of y to (n_samples, ), for example using ravel().\n",
            "  y = column_or_1d(y, warn=True)\n",
            "/usr/local/lib/python3.6/dist-packages/sklearn/utils/validation.py:761: DataConversionWarning: A column-vector y was passed when a 1d array was expected. Please change the shape of y to (n_samples, ), for example using ravel().\n",
            "  y = column_or_1d(y, warn=True)\n",
            "/usr/local/lib/python3.6/dist-packages/sklearn/utils/validation.py:761: DataConversionWarning: A column-vector y was passed when a 1d array was expected. Please change the shape of y to (n_samples, ), for example using ravel().\n",
            "  y = column_or_1d(y, warn=True)\n",
            "/usr/local/lib/python3.6/dist-packages/sklearn/utils/validation.py:761: DataConversionWarning: A column-vector y was passed when a 1d array was expected. Please change the shape of y to (n_samples, ), for example using ravel().\n",
            "  y = column_or_1d(y, warn=True)\n",
            "/usr/local/lib/python3.6/dist-packages/sklearn/utils/validation.py:761: DataConversionWarning: A column-vector y was passed when a 1d array was expected. Please change the shape of y to (n_samples, ), for example using ravel().\n",
            "  y = column_or_1d(y, warn=True)\n",
            "/usr/local/lib/python3.6/dist-packages/sklearn/utils/validation.py:761: DataConversionWarning: A column-vector y was passed when a 1d array was expected. Please change the shape of y to (n_samples, ), for example using ravel().\n",
            "  y = column_or_1d(y, warn=True)\n",
            "/usr/local/lib/python3.6/dist-packages/sklearn/utils/validation.py:761: DataConversionWarning: A column-vector y was passed when a 1d array was expected. Please change the shape of y to (n_samples, ), for example using ravel().\n",
            "  y = column_or_1d(y, warn=True)\n",
            "/usr/local/lib/python3.6/dist-packages/sklearn/utils/validation.py:761: DataConversionWarning: A column-vector y was passed when a 1d array was expected. Please change the shape of y to (n_samples, ), for example using ravel().\n",
            "  y = column_or_1d(y, warn=True)\n",
            "/usr/local/lib/python3.6/dist-packages/sklearn/utils/validation.py:761: DataConversionWarning: A column-vector y was passed when a 1d array was expected. Please change the shape of y to (n_samples, ), for example using ravel().\n",
            "  y = column_or_1d(y, warn=True)\n",
            "/usr/local/lib/python3.6/dist-packages/sklearn/utils/validation.py:761: DataConversionWarning: A column-vector y was passed when a 1d array was expected. Please change the shape of y to (n_samples, ), for example using ravel().\n",
            "  y = column_or_1d(y, warn=True)\n",
            "/usr/local/lib/python3.6/dist-packages/sklearn/utils/validation.py:761: DataConversionWarning: A column-vector y was passed when a 1d array was expected. Please change the shape of y to (n_samples, ), for example using ravel().\n",
            "  y = column_or_1d(y, warn=True)\n",
            "/usr/local/lib/python3.6/dist-packages/sklearn/utils/validation.py:761: DataConversionWarning: A column-vector y was passed when a 1d array was expected. Please change the shape of y to (n_samples, ), for example using ravel().\n",
            "  y = column_or_1d(y, warn=True)\n",
            "/usr/local/lib/python3.6/dist-packages/sklearn/utils/validation.py:761: DataConversionWarning: A column-vector y was passed when a 1d array was expected. Please change the shape of y to (n_samples, ), for example using ravel().\n",
            "  y = column_or_1d(y, warn=True)\n",
            "/usr/local/lib/python3.6/dist-packages/sklearn/utils/validation.py:761: DataConversionWarning: A column-vector y was passed when a 1d array was expected. Please change the shape of y to (n_samples, ), for example using ravel().\n",
            "  y = column_or_1d(y, warn=True)\n",
            "/usr/local/lib/python3.6/dist-packages/sklearn/utils/validation.py:761: DataConversionWarning: A column-vector y was passed when a 1d array was expected. Please change the shape of y to (n_samples, ), for example using ravel().\n",
            "  y = column_or_1d(y, warn=True)\n",
            "/usr/local/lib/python3.6/dist-packages/sklearn/utils/validation.py:761: DataConversionWarning: A column-vector y was passed when a 1d array was expected. Please change the shape of y to (n_samples, ), for example using ravel().\n",
            "  y = column_or_1d(y, warn=True)\n",
            "/usr/local/lib/python3.6/dist-packages/sklearn/utils/validation.py:761: DataConversionWarning: A column-vector y was passed when a 1d array was expected. Please change the shape of y to (n_samples, ), for example using ravel().\n",
            "  y = column_or_1d(y, warn=True)\n",
            "/usr/local/lib/python3.6/dist-packages/sklearn/utils/validation.py:761: DataConversionWarning: A column-vector y was passed when a 1d array was expected. Please change the shape of y to (n_samples, ), for example using ravel().\n",
            "  y = column_or_1d(y, warn=True)\n",
            "/usr/local/lib/python3.6/dist-packages/sklearn/utils/validation.py:761: DataConversionWarning: A column-vector y was passed when a 1d array was expected. Please change the shape of y to (n_samples, ), for example using ravel().\n",
            "  y = column_or_1d(y, warn=True)\n",
            "/usr/local/lib/python3.6/dist-packages/sklearn/utils/validation.py:761: DataConversionWarning: A column-vector y was passed when a 1d array was expected. Please change the shape of y to (n_samples, ), for example using ravel().\n",
            "  y = column_or_1d(y, warn=True)\n",
            "/usr/local/lib/python3.6/dist-packages/sklearn/utils/validation.py:761: DataConversionWarning: A column-vector y was passed when a 1d array was expected. Please change the shape of y to (n_samples, ), for example using ravel().\n",
            "  y = column_or_1d(y, warn=True)\n",
            "/usr/local/lib/python3.6/dist-packages/sklearn/utils/validation.py:761: DataConversionWarning: A column-vector y was passed when a 1d array was expected. Please change the shape of y to (n_samples, ), for example using ravel().\n",
            "  y = column_or_1d(y, warn=True)\n",
            "/usr/local/lib/python3.6/dist-packages/sklearn/utils/validation.py:761: DataConversionWarning: A column-vector y was passed when a 1d array was expected. Please change the shape of y to (n_samples, ), for example using ravel().\n",
            "  y = column_or_1d(y, warn=True)\n",
            "/usr/local/lib/python3.6/dist-packages/sklearn/utils/validation.py:761: DataConversionWarning: A column-vector y was passed when a 1d array was expected. Please change the shape of y to (n_samples, ), for example using ravel().\n",
            "  y = column_or_1d(y, warn=True)\n",
            "/usr/local/lib/python3.6/dist-packages/sklearn/utils/validation.py:761: DataConversionWarning: A column-vector y was passed when a 1d array was expected. Please change the shape of y to (n_samples, ), for example using ravel().\n",
            "  y = column_or_1d(y, warn=True)\n",
            "/usr/local/lib/python3.6/dist-packages/sklearn/utils/validation.py:761: DataConversionWarning: A column-vector y was passed when a 1d array was expected. Please change the shape of y to (n_samples, ), for example using ravel().\n",
            "  y = column_or_1d(y, warn=True)\n",
            "/usr/local/lib/python3.6/dist-packages/sklearn/utils/validation.py:761: DataConversionWarning: A column-vector y was passed when a 1d array was expected. Please change the shape of y to (n_samples, ), for example using ravel().\n",
            "  y = column_or_1d(y, warn=True)\n",
            "/usr/local/lib/python3.6/dist-packages/sklearn/utils/validation.py:761: DataConversionWarning: A column-vector y was passed when a 1d array was expected. Please change the shape of y to (n_samples, ), for example using ravel().\n",
            "  y = column_or_1d(y, warn=True)\n",
            "/usr/local/lib/python3.6/dist-packages/sklearn/utils/validation.py:761: DataConversionWarning: A column-vector y was passed when a 1d array was expected. Please change the shape of y to (n_samples, ), for example using ravel().\n",
            "  y = column_or_1d(y, warn=True)\n",
            "/usr/local/lib/python3.6/dist-packages/sklearn/utils/validation.py:761: DataConversionWarning: A column-vector y was passed when a 1d array was expected. Please change the shape of y to (n_samples, ), for example using ravel().\n",
            "  y = column_or_1d(y, warn=True)\n",
            "/usr/local/lib/python3.6/dist-packages/sklearn/utils/validation.py:761: DataConversionWarning: A column-vector y was passed when a 1d array was expected. Please change the shape of y to (n_samples, ), for example using ravel().\n",
            "  y = column_or_1d(y, warn=True)\n",
            "/usr/local/lib/python3.6/dist-packages/sklearn/utils/validation.py:761: DataConversionWarning: A column-vector y was passed when a 1d array was expected. Please change the shape of y to (n_samples, ), for example using ravel().\n",
            "  y = column_or_1d(y, warn=True)\n",
            "/usr/local/lib/python3.6/dist-packages/sklearn/utils/validation.py:761: DataConversionWarning: A column-vector y was passed when a 1d array was expected. Please change the shape of y to (n_samples, ), for example using ravel().\n",
            "  y = column_or_1d(y, warn=True)\n",
            "/usr/local/lib/python3.6/dist-packages/sklearn/utils/validation.py:761: DataConversionWarning: A column-vector y was passed when a 1d array was expected. Please change the shape of y to (n_samples, ), for example using ravel().\n",
            "  y = column_or_1d(y, warn=True)\n",
            "/usr/local/lib/python3.6/dist-packages/sklearn/utils/validation.py:761: DataConversionWarning: A column-vector y was passed when a 1d array was expected. Please change the shape of y to (n_samples, ), for example using ravel().\n",
            "  y = column_or_1d(y, warn=True)\n",
            "/usr/local/lib/python3.6/dist-packages/sklearn/utils/validation.py:761: DataConversionWarning: A column-vector y was passed when a 1d array was expected. Please change the shape of y to (n_samples, ), for example using ravel().\n",
            "  y = column_or_1d(y, warn=True)\n",
            "/usr/local/lib/python3.6/dist-packages/sklearn/utils/validation.py:761: DataConversionWarning: A column-vector y was passed when a 1d array was expected. Please change the shape of y to (n_samples, ), for example using ravel().\n",
            "  y = column_or_1d(y, warn=True)\n",
            "/usr/local/lib/python3.6/dist-packages/sklearn/utils/validation.py:761: DataConversionWarning: A column-vector y was passed when a 1d array was expected. Please change the shape of y to (n_samples, ), for example using ravel().\n",
            "  y = column_or_1d(y, warn=True)\n",
            "/usr/local/lib/python3.6/dist-packages/sklearn/utils/validation.py:761: DataConversionWarning: A column-vector y was passed when a 1d array was expected. Please change the shape of y to (n_samples, ), for example using ravel().\n",
            "  y = column_or_1d(y, warn=True)\n",
            "/usr/local/lib/python3.6/dist-packages/sklearn/utils/validation.py:761: DataConversionWarning: A column-vector y was passed when a 1d array was expected. Please change the shape of y to (n_samples, ), for example using ravel().\n",
            "  y = column_or_1d(y, warn=True)\n",
            "/usr/local/lib/python3.6/dist-packages/sklearn/utils/validation.py:761: DataConversionWarning: A column-vector y was passed when a 1d array was expected. Please change the shape of y to (n_samples, ), for example using ravel().\n",
            "  y = column_or_1d(y, warn=True)\n",
            "/usr/local/lib/python3.6/dist-packages/sklearn/utils/validation.py:761: DataConversionWarning: A column-vector y was passed when a 1d array was expected. Please change the shape of y to (n_samples, ), for example using ravel().\n",
            "  y = column_or_1d(y, warn=True)\n",
            "/usr/local/lib/python3.6/dist-packages/sklearn/utils/validation.py:761: DataConversionWarning: A column-vector y was passed when a 1d array was expected. Please change the shape of y to (n_samples, ), for example using ravel().\n",
            "  y = column_or_1d(y, warn=True)\n",
            "/usr/local/lib/python3.6/dist-packages/sklearn/utils/validation.py:761: DataConversionWarning: A column-vector y was passed when a 1d array was expected. Please change the shape of y to (n_samples, ), for example using ravel().\n",
            "  y = column_or_1d(y, warn=True)\n",
            "/usr/local/lib/python3.6/dist-packages/sklearn/utils/validation.py:761: DataConversionWarning: A column-vector y was passed when a 1d array was expected. Please change the shape of y to (n_samples, ), for example using ravel().\n",
            "  y = column_or_1d(y, warn=True)\n",
            "/usr/local/lib/python3.6/dist-packages/sklearn/utils/validation.py:761: DataConversionWarning: A column-vector y was passed when a 1d array was expected. Please change the shape of y to (n_samples, ), for example using ravel().\n",
            "  y = column_or_1d(y, warn=True)\n",
            "/usr/local/lib/python3.6/dist-packages/sklearn/utils/validation.py:761: DataConversionWarning: A column-vector y was passed when a 1d array was expected. Please change the shape of y to (n_samples, ), for example using ravel().\n",
            "  y = column_or_1d(y, warn=True)\n",
            "/usr/local/lib/python3.6/dist-packages/sklearn/utils/validation.py:761: DataConversionWarning: A column-vector y was passed when a 1d array was expected. Please change the shape of y to (n_samples, ), for example using ravel().\n",
            "  y = column_or_1d(y, warn=True)\n",
            "/usr/local/lib/python3.6/dist-packages/sklearn/utils/validation.py:761: DataConversionWarning: A column-vector y was passed when a 1d array was expected. Please change the shape of y to (n_samples, ), for example using ravel().\n",
            "  y = column_or_1d(y, warn=True)\n",
            "/usr/local/lib/python3.6/dist-packages/sklearn/utils/validation.py:761: DataConversionWarning: A column-vector y was passed when a 1d array was expected. Please change the shape of y to (n_samples, ), for example using ravel().\n",
            "  y = column_or_1d(y, warn=True)\n",
            "/usr/local/lib/python3.6/dist-packages/sklearn/utils/validation.py:761: DataConversionWarning: A column-vector y was passed when a 1d array was expected. Please change the shape of y to (n_samples, ), for example using ravel().\n",
            "  y = column_or_1d(y, warn=True)\n",
            "/usr/local/lib/python3.6/dist-packages/sklearn/utils/validation.py:761: DataConversionWarning: A column-vector y was passed when a 1d array was expected. Please change the shape of y to (n_samples, ), for example using ravel().\n",
            "  y = column_or_1d(y, warn=True)\n",
            "/usr/local/lib/python3.6/dist-packages/sklearn/utils/validation.py:761: DataConversionWarning: A column-vector y was passed when a 1d array was expected. Please change the shape of y to (n_samples, ), for example using ravel().\n",
            "  y = column_or_1d(y, warn=True)\n",
            "/usr/local/lib/python3.6/dist-packages/sklearn/utils/validation.py:761: DataConversionWarning: A column-vector y was passed when a 1d array was expected. Please change the shape of y to (n_samples, ), for example using ravel().\n",
            "  y = column_or_1d(y, warn=True)\n",
            "/usr/local/lib/python3.6/dist-packages/sklearn/utils/validation.py:761: DataConversionWarning: A column-vector y was passed when a 1d array was expected. Please change the shape of y to (n_samples, ), for example using ravel().\n",
            "  y = column_or_1d(y, warn=True)\n",
            "/usr/local/lib/python3.6/dist-packages/sklearn/utils/validation.py:761: DataConversionWarning: A column-vector y was passed when a 1d array was expected. Please change the shape of y to (n_samples, ), for example using ravel().\n",
            "  y = column_or_1d(y, warn=True)\n",
            "/usr/local/lib/python3.6/dist-packages/sklearn/utils/validation.py:761: DataConversionWarning: A column-vector y was passed when a 1d array was expected. Please change the shape of y to (n_samples, ), for example using ravel().\n",
            "  y = column_or_1d(y, warn=True)\n",
            "/usr/local/lib/python3.6/dist-packages/sklearn/utils/validation.py:761: DataConversionWarning: A column-vector y was passed when a 1d array was expected. Please change the shape of y to (n_samples, ), for example using ravel().\n",
            "  y = column_or_1d(y, warn=True)\n",
            "/usr/local/lib/python3.6/dist-packages/sklearn/utils/validation.py:761: DataConversionWarning: A column-vector y was passed when a 1d array was expected. Please change the shape of y to (n_samples, ), for example using ravel().\n",
            "  y = column_or_1d(y, warn=True)\n",
            "/usr/local/lib/python3.6/dist-packages/sklearn/utils/validation.py:761: DataConversionWarning: A column-vector y was passed when a 1d array was expected. Please change the shape of y to (n_samples, ), for example using ravel().\n",
            "  y = column_or_1d(y, warn=True)\n",
            "/usr/local/lib/python3.6/dist-packages/sklearn/utils/validation.py:761: DataConversionWarning: A column-vector y was passed when a 1d array was expected. Please change the shape of y to (n_samples, ), for example using ravel().\n",
            "  y = column_or_1d(y, warn=True)\n",
            "/usr/local/lib/python3.6/dist-packages/sklearn/utils/validation.py:761: DataConversionWarning: A column-vector y was passed when a 1d array was expected. Please change the shape of y to (n_samples, ), for example using ravel().\n",
            "  y = column_or_1d(y, warn=True)\n",
            "/usr/local/lib/python3.6/dist-packages/sklearn/utils/validation.py:761: DataConversionWarning: A column-vector y was passed when a 1d array was expected. Please change the shape of y to (n_samples, ), for example using ravel().\n",
            "  y = column_or_1d(y, warn=True)\n",
            "/usr/local/lib/python3.6/dist-packages/sklearn/utils/validation.py:761: DataConversionWarning: A column-vector y was passed when a 1d array was expected. Please change the shape of y to (n_samples, ), for example using ravel().\n",
            "  y = column_or_1d(y, warn=True)\n",
            "/usr/local/lib/python3.6/dist-packages/sklearn/utils/validation.py:761: DataConversionWarning: A column-vector y was passed when a 1d array was expected. Please change the shape of y to (n_samples, ), for example using ravel().\n",
            "  y = column_or_1d(y, warn=True)\n",
            "/usr/local/lib/python3.6/dist-packages/sklearn/utils/validation.py:761: DataConversionWarning: A column-vector y was passed when a 1d array was expected. Please change the shape of y to (n_samples, ), for example using ravel().\n",
            "  y = column_or_1d(y, warn=True)\n",
            "/usr/local/lib/python3.6/dist-packages/sklearn/utils/validation.py:761: DataConversionWarning: A column-vector y was passed when a 1d array was expected. Please change the shape of y to (n_samples, ), for example using ravel().\n",
            "  y = column_or_1d(y, warn=True)\n",
            "/usr/local/lib/python3.6/dist-packages/sklearn/utils/validation.py:761: DataConversionWarning: A column-vector y was passed when a 1d array was expected. Please change the shape of y to (n_samples, ), for example using ravel().\n",
            "  y = column_or_1d(y, warn=True)\n",
            "/usr/local/lib/python3.6/dist-packages/sklearn/utils/validation.py:761: DataConversionWarning: A column-vector y was passed when a 1d array was expected. Please change the shape of y to (n_samples, ), for example using ravel().\n",
            "  y = column_or_1d(y, warn=True)\n",
            "/usr/local/lib/python3.6/dist-packages/sklearn/utils/validation.py:761: DataConversionWarning: A column-vector y was passed when a 1d array was expected. Please change the shape of y to (n_samples, ), for example using ravel().\n",
            "  y = column_or_1d(y, warn=True)\n",
            "/usr/local/lib/python3.6/dist-packages/sklearn/utils/validation.py:761: DataConversionWarning: A column-vector y was passed when a 1d array was expected. Please change the shape of y to (n_samples, ), for example using ravel().\n",
            "  y = column_or_1d(y, warn=True)\n",
            "/usr/local/lib/python3.6/dist-packages/sklearn/utils/validation.py:761: DataConversionWarning: A column-vector y was passed when a 1d array was expected. Please change the shape of y to (n_samples, ), for example using ravel().\n",
            "  y = column_or_1d(y, warn=True)\n",
            "/usr/local/lib/python3.6/dist-packages/sklearn/utils/validation.py:761: DataConversionWarning: A column-vector y was passed when a 1d array was expected. Please change the shape of y to (n_samples, ), for example using ravel().\n",
            "  y = column_or_1d(y, warn=True)\n",
            "/usr/local/lib/python3.6/dist-packages/sklearn/utils/validation.py:761: DataConversionWarning: A column-vector y was passed when a 1d array was expected. Please change the shape of y to (n_samples, ), for example using ravel().\n",
            "  y = column_or_1d(y, warn=True)\n",
            "/usr/local/lib/python3.6/dist-packages/sklearn/utils/validation.py:761: DataConversionWarning: A column-vector y was passed when a 1d array was expected. Please change the shape of y to (n_samples, ), for example using ravel().\n",
            "  y = column_or_1d(y, warn=True)\n",
            "/usr/local/lib/python3.6/dist-packages/sklearn/utils/validation.py:761: DataConversionWarning: A column-vector y was passed when a 1d array was expected. Please change the shape of y to (n_samples, ), for example using ravel().\n",
            "  y = column_or_1d(y, warn=True)\n",
            "/usr/local/lib/python3.6/dist-packages/sklearn/utils/validation.py:761: DataConversionWarning: A column-vector y was passed when a 1d array was expected. Please change the shape of y to (n_samples, ), for example using ravel().\n",
            "  y = column_or_1d(y, warn=True)\n",
            "/usr/local/lib/python3.6/dist-packages/sklearn/utils/validation.py:761: DataConversionWarning: A column-vector y was passed when a 1d array was expected. Please change the shape of y to (n_samples, ), for example using ravel().\n",
            "  y = column_or_1d(y, warn=True)\n",
            "/usr/local/lib/python3.6/dist-packages/sklearn/utils/validation.py:761: DataConversionWarning: A column-vector y was passed when a 1d array was expected. Please change the shape of y to (n_samples, ), for example using ravel().\n",
            "  y = column_or_1d(y, warn=True)\n",
            "/usr/local/lib/python3.6/dist-packages/sklearn/utils/validation.py:761: DataConversionWarning: A column-vector y was passed when a 1d array was expected. Please change the shape of y to (n_samples, ), for example using ravel().\n",
            "  y = column_or_1d(y, warn=True)\n",
            "/usr/local/lib/python3.6/dist-packages/sklearn/utils/validation.py:761: DataConversionWarning: A column-vector y was passed when a 1d array was expected. Please change the shape of y to (n_samples, ), for example using ravel().\n",
            "  y = column_or_1d(y, warn=True)\n",
            "/usr/local/lib/python3.6/dist-packages/sklearn/utils/validation.py:761: DataConversionWarning: A column-vector y was passed when a 1d array was expected. Please change the shape of y to (n_samples, ), for example using ravel().\n",
            "  y = column_or_1d(y, warn=True)\n",
            "/usr/local/lib/python3.6/dist-packages/sklearn/utils/validation.py:761: DataConversionWarning: A column-vector y was passed when a 1d array was expected. Please change the shape of y to (n_samples, ), for example using ravel().\n",
            "  y = column_or_1d(y, warn=True)\n",
            "/usr/local/lib/python3.6/dist-packages/sklearn/utils/validation.py:761: DataConversionWarning: A column-vector y was passed when a 1d array was expected. Please change the shape of y to (n_samples, ), for example using ravel().\n",
            "  y = column_or_1d(y, warn=True)\n",
            "/usr/local/lib/python3.6/dist-packages/sklearn/utils/validation.py:761: DataConversionWarning: A column-vector y was passed when a 1d array was expected. Please change the shape of y to (n_samples, ), for example using ravel().\n",
            "  y = column_or_1d(y, warn=True)\n",
            "/usr/local/lib/python3.6/dist-packages/sklearn/utils/validation.py:761: DataConversionWarning: A column-vector y was passed when a 1d array was expected. Please change the shape of y to (n_samples, ), for example using ravel().\n",
            "  y = column_or_1d(y, warn=True)\n",
            "/usr/local/lib/python3.6/dist-packages/sklearn/utils/validation.py:761: DataConversionWarning: A column-vector y was passed when a 1d array was expected. Please change the shape of y to (n_samples, ), for example using ravel().\n",
            "  y = column_or_1d(y, warn=True)\n",
            "/usr/local/lib/python3.6/dist-packages/sklearn/utils/validation.py:761: DataConversionWarning: A column-vector y was passed when a 1d array was expected. Please change the shape of y to (n_samples, ), for example using ravel().\n",
            "  y = column_or_1d(y, warn=True)\n",
            "/usr/local/lib/python3.6/dist-packages/sklearn/utils/validation.py:761: DataConversionWarning: A column-vector y was passed when a 1d array was expected. Please change the shape of y to (n_samples, ), for example using ravel().\n",
            "  y = column_or_1d(y, warn=True)\n",
            "/usr/local/lib/python3.6/dist-packages/sklearn/utils/validation.py:761: DataConversionWarning: A column-vector y was passed when a 1d array was expected. Please change the shape of y to (n_samples, ), for example using ravel().\n",
            "  y = column_or_1d(y, warn=True)\n",
            "/usr/local/lib/python3.6/dist-packages/sklearn/utils/validation.py:761: DataConversionWarning: A column-vector y was passed when a 1d array was expected. Please change the shape of y to (n_samples, ), for example using ravel().\n",
            "  y = column_or_1d(y, warn=True)\n",
            "/usr/local/lib/python3.6/dist-packages/sklearn/utils/validation.py:761: DataConversionWarning: A column-vector y was passed when a 1d array was expected. Please change the shape of y to (n_samples, ), for example using ravel().\n",
            "  y = column_or_1d(y, warn=True)\n",
            "/usr/local/lib/python3.6/dist-packages/sklearn/utils/validation.py:761: DataConversionWarning: A column-vector y was passed when a 1d array was expected. Please change the shape of y to (n_samples, ), for example using ravel().\n",
            "  y = column_or_1d(y, warn=True)\n",
            "/usr/local/lib/python3.6/dist-packages/sklearn/utils/validation.py:761: DataConversionWarning: A column-vector y was passed when a 1d array was expected. Please change the shape of y to (n_samples, ), for example using ravel().\n",
            "  y = column_or_1d(y, warn=True)\n",
            "/usr/local/lib/python3.6/dist-packages/sklearn/utils/validation.py:761: DataConversionWarning: A column-vector y was passed when a 1d array was expected. Please change the shape of y to (n_samples, ), for example using ravel().\n",
            "  y = column_or_1d(y, warn=True)\n",
            "/usr/local/lib/python3.6/dist-packages/sklearn/utils/validation.py:761: DataConversionWarning: A column-vector y was passed when a 1d array was expected. Please change the shape of y to (n_samples, ), for example using ravel().\n",
            "  y = column_or_1d(y, warn=True)\n",
            "/usr/local/lib/python3.6/dist-packages/sklearn/utils/validation.py:761: DataConversionWarning: A column-vector y was passed when a 1d array was expected. Please change the shape of y to (n_samples, ), for example using ravel().\n",
            "  y = column_or_1d(y, warn=True)\n",
            "/usr/local/lib/python3.6/dist-packages/sklearn/utils/validation.py:761: DataConversionWarning: A column-vector y was passed when a 1d array was expected. Please change the shape of y to (n_samples, ), for example using ravel().\n",
            "  y = column_or_1d(y, warn=True)\n",
            "/usr/local/lib/python3.6/dist-packages/sklearn/utils/validation.py:761: DataConversionWarning: A column-vector y was passed when a 1d array was expected. Please change the shape of y to (n_samples, ), for example using ravel().\n",
            "  y = column_or_1d(y, warn=True)\n",
            "/usr/local/lib/python3.6/dist-packages/sklearn/utils/validation.py:761: DataConversionWarning: A column-vector y was passed when a 1d array was expected. Please change the shape of y to (n_samples, ), for example using ravel().\n",
            "  y = column_or_1d(y, warn=True)\n",
            "/usr/local/lib/python3.6/dist-packages/sklearn/utils/validation.py:761: DataConversionWarning: A column-vector y was passed when a 1d array was expected. Please change the shape of y to (n_samples, ), for example using ravel().\n",
            "  y = column_or_1d(y, warn=True)\n",
            "/usr/local/lib/python3.6/dist-packages/sklearn/utils/validation.py:761: DataConversionWarning: A column-vector y was passed when a 1d array was expected. Please change the shape of y to (n_samples, ), for example using ravel().\n",
            "  y = column_or_1d(y, warn=True)\n",
            "/usr/local/lib/python3.6/dist-packages/sklearn/utils/validation.py:761: DataConversionWarning: A column-vector y was passed when a 1d array was expected. Please change the shape of y to (n_samples, ), for example using ravel().\n",
            "  y = column_or_1d(y, warn=True)\n",
            "/usr/local/lib/python3.6/dist-packages/sklearn/utils/validation.py:761: DataConversionWarning: A column-vector y was passed when a 1d array was expected. Please change the shape of y to (n_samples, ), for example using ravel().\n",
            "  y = column_or_1d(y, warn=True)\n",
            "/usr/local/lib/python3.6/dist-packages/sklearn/utils/validation.py:761: DataConversionWarning: A column-vector y was passed when a 1d array was expected. Please change the shape of y to (n_samples, ), for example using ravel().\n",
            "  y = column_or_1d(y, warn=True)\n",
            "/usr/local/lib/python3.6/dist-packages/sklearn/utils/validation.py:761: DataConversionWarning: A column-vector y was passed when a 1d array was expected. Please change the shape of y to (n_samples, ), for example using ravel().\n",
            "  y = column_or_1d(y, warn=True)\n",
            "/usr/local/lib/python3.6/dist-packages/sklearn/utils/validation.py:761: DataConversionWarning: A column-vector y was passed when a 1d array was expected. Please change the shape of y to (n_samples, ), for example using ravel().\n",
            "  y = column_or_1d(y, warn=True)\n",
            "/usr/local/lib/python3.6/dist-packages/sklearn/utils/validation.py:761: DataConversionWarning: A column-vector y was passed when a 1d array was expected. Please change the shape of y to (n_samples, ), for example using ravel().\n",
            "  y = column_or_1d(y, warn=True)\n",
            "/usr/local/lib/python3.6/dist-packages/sklearn/utils/validation.py:761: DataConversionWarning: A column-vector y was passed when a 1d array was expected. Please change the shape of y to (n_samples, ), for example using ravel().\n",
            "  y = column_or_1d(y, warn=True)\n",
            "/usr/local/lib/python3.6/dist-packages/sklearn/utils/validation.py:761: DataConversionWarning: A column-vector y was passed when a 1d array was expected. Please change the shape of y to (n_samples, ), for example using ravel().\n",
            "  y = column_or_1d(y, warn=True)\n",
            "/usr/local/lib/python3.6/dist-packages/sklearn/utils/validation.py:761: DataConversionWarning: A column-vector y was passed when a 1d array was expected. Please change the shape of y to (n_samples, ), for example using ravel().\n",
            "  y = column_or_1d(y, warn=True)\n",
            "/usr/local/lib/python3.6/dist-packages/sklearn/utils/validation.py:761: DataConversionWarning: A column-vector y was passed when a 1d array was expected. Please change the shape of y to (n_samples, ), for example using ravel().\n",
            "  y = column_or_1d(y, warn=True)\n",
            "/usr/local/lib/python3.6/dist-packages/sklearn/utils/validation.py:761: DataConversionWarning: A column-vector y was passed when a 1d array was expected. Please change the shape of y to (n_samples, ), for example using ravel().\n",
            "  y = column_or_1d(y, warn=True)\n",
            "/usr/local/lib/python3.6/dist-packages/sklearn/utils/validation.py:761: DataConversionWarning: A column-vector y was passed when a 1d array was expected. Please change the shape of y to (n_samples, ), for example using ravel().\n",
            "  y = column_or_1d(y, warn=True)\n",
            "/usr/local/lib/python3.6/dist-packages/sklearn/utils/validation.py:761: DataConversionWarning: A column-vector y was passed when a 1d array was expected. Please change the shape of y to (n_samples, ), for example using ravel().\n",
            "  y = column_or_1d(y, warn=True)\n"
          ],
          "name": "stderr"
        },
        {
          "output_type": "execute_result",
          "data": {
            "text/plain": [
              "{'C': 0.1, 'gamma': 0.001, 'kernel': 'linear'}"
            ]
          },
          "metadata": {
            "tags": []
          },
          "execution_count": 22
        }
      ]
    },
    {
      "metadata": {
        "id": "OdOcHgMg5LlA",
        "colab_type": "code",
        "colab": {
          "base_uri": "https://localhost:8080/",
          "height": 447
        },
        "outputId": "e883a9fd-df9d-474d-d0bd-bdfd5f4046b0"
      },
      "cell_type": "code",
      "source": [
        "svm_regrBest = svm.SVR(kernel = 'linear', C = 0.1, gamma = 0.001)\n",
        "\n",
        "svm_regrBest.fit(svm_X_train, svm_y_train)\n",
        "\n",
        "svm_predsBest = svm_regrBest.predict(svm_X_test)\n",
        "\n",
        "# invert scaling for forecast to revert data into original form\n",
        "inv_yhatBest = np.concatenate((svm_X_test[:,0].reshape(-1,1), svm_predsBest.reshape(-1,1), svm_X_test[:, 1:]), axis=1)\n",
        "inv_yhatBest = scaler.inverse_transform(inv_yhatBest)\n",
        "inv_yhatBest = inv_yhatBest[:,1]\n",
        "\n",
        "\n",
        "# calculate RMSE\n",
        "rmse2 = math.sqrt(mean_squared_error(inv_y, inv_yhatBest))\n",
        "print('Test RMSE: %.3f' % rmse2)\n",
        "\n",
        "\n",
        "#visualise the results\n",
        "plt.plot(inv_y, color='red', label='real exits')\n",
        "plt.plot(inv_yhatBest, color='blue', label='predicted exits')\n",
        "plt.title('Store Exits Prediction')\n",
        "plt.xlabel('Time')\n",
        "plt.ylabel('Exits')\n",
        "plt.legend()\n",
        "plt.show()"
      ],
      "execution_count": 25,
      "outputs": [
        {
          "output_type": "stream",
          "text": [
            "/usr/local/lib/python3.6/dist-packages/sklearn/utils/validation.py:761: DataConversionWarning: A column-vector y was passed when a 1d array was expected. Please change the shape of y to (n_samples, ), for example using ravel().\n",
            "  y = column_or_1d(y, warn=True)\n"
          ],
          "name": "stderr"
        },
        {
          "output_type": "stream",
          "text": [
            "Test RMSE: 14.306\n"
          ],
          "name": "stdout"
        },
        {
          "output_type": "display_data",
          "data": {
            "image/png": "[encoded data removed]",
            "text/plain": [
              "<Figure size 576x396 with 1 Axes>"
            ]
          },
          "metadata": {
            "tags": []
          }
        }
      ]
    },
    {
      "metadata": {
        "id": "PFz9oCW_9_23",
        "colab_type": "text"
      },
      "cell_type": "markdown",
      "source": [
        "# LSTM"
      ]
    },
    {
      "metadata": {
        "id": "FE8Do6Av-CLt",
        "colab_type": "code",
        "colab": {}
      },
      "cell_type": "code",
      "source": [
        "##############################################################################\n",
        "#LSTM take 1\n",
        "##############################################################################\n",
        "\n",
        "def convert_timeseries(data, n_in=1, n_out=1, dropnan=True):\n",
        "\t#covert timeseries data to t-n to t-1 form\n",
        "\t#n defines how many previous value should be taken into consideration\n",
        "\tn_vars = 1 if type(data) is list else data.shape[1]\n",
        "\tdf = pd.DataFrame(data)\n",
        "\tcols, names = list(), list()\n",
        "\t# input sequence (t-n, ... t-1)\n",
        "\tfor i in range(n_in, 0, -1):\n",
        "\t\tcols.append(df.shift(i))\n",
        "\t\tnames += [('var%d(t-%d)' % (j+1, i)) for j in range(n_vars)]\n",
        "\t# forecast sequence (t, t+1, ... t+n)\n",
        "\tfor i in range(0, n_out):\n",
        "\t\tcols.append(df.shift(-i))\n",
        "\t\tif i == 0:\n",
        "\t\t\tnames += [('var%d(t)' % (j+1)) for j in range(n_vars)]\n",
        "\t\telse:\n",
        "\t\t\tnames += [('var%d(t+%d)' % (j+1, i)) for j in range(n_vars)]\n",
        "\t# put it all together\n",
        "\tagg = pd.concat(cols, axis=1)\n",
        "\tagg.columns = names\n",
        "\t# drop rows with NaN values\n",
        "\tif dropnan:\n",
        "\t\tagg.dropna(inplace=True)\n",
        "\treturn agg\n",
        "\n"
      ],
      "execution_count": 0,
      "outputs": []
    },
    {
      "metadata": {
        "id": "hLKg3ZE3-K8m",
        "colab_type": "code",
        "outputId": "b73df146-7a5e-4a4e-d6b6-f4154d19b64f",
        "colab": {
          "base_uri": "https://localhost:8080/",
          "height": 357
        }
      },
      "cell_type": "code",
      "source": [
        "# import the appropriate library\n",
        "from sklearn.preprocessing import MinMaxScaler\n",
        "\n",
        "values = model_data.values\n",
        "\n",
        "values = values.astype('float32')\n",
        "# normalize features\n",
        "mm_scaler = MinMaxScaler(feature_range=(0, 1))\n",
        "scaled = mm_scaler.fit_transform(values)\n",
        "# use predefined function to store previous rows values of each input in separate cols\n",
        "reframed = convert_timeseries(scaled, 1, 1)\n",
        "\n",
        "print(reframed.head())"
      ],
      "execution_count": 27,
      "outputs": [
        {
          "output_type": "stream",
          "text": [
            "   var1(t-1)  var2(t-1)  var3(t-1)  var4(t-1)  var5(t-1)  var6(t-1)  \\\n",
            "1   0.629630   0.360215   0.046196   0.430737   0.301413   0.142857   \n",
            "2   0.740741   0.602151   0.411826   0.583675   0.187705   0.142857   \n",
            "3   0.740741   0.596774   0.638016   0.493389   0.220753   0.285714   \n",
            "4   0.629630   0.376344   0.337792   1.000000   0.237368   0.285714   \n",
            "5   0.703704   0.677419   0.601363   0.412170   0.110906   0.380952   \n",
            "\n",
            "   var7(t-1)  var8(t-1)  var9(t-1)   var1(t)   var2(t)   var3(t)   var4(t)  \\\n",
            "1   0.190476        0.0   0.093003  0.740741  0.602151  0.411826  0.583675   \n",
            "2   0.285714        0.0   0.075780  0.740741  0.596774  0.638016  0.493389   \n",
            "3   0.333333        0.0   0.047413  0.629630  0.376344  0.337792  1.000000   \n",
            "4   0.380952        0.0   0.000000  0.703704  0.677419  0.601363  0.412170   \n",
            "5   0.428571        0.0   0.051189  0.583333  0.317204  0.275226  0.571129   \n",
            "\n",
            "    var5(t)   var6(t)   var7(t)   var8(t)   var9(t)  \n",
            "1  0.187705  0.142857  0.285714  0.000000  0.075780  \n",
            "2  0.220753  0.285714  0.333333  0.000000  0.047413  \n",
            "3  0.237368  0.285714  0.380952  0.000000  0.000000  \n",
            "4  0.110906  0.380952  0.428571  0.000000  0.051189  \n",
            "5  0.265390  0.190476  0.095238  0.081169  0.051189  \n"
          ],
          "name": "stdout"
        }
      ]
    },
    {
      "metadata": {
        "id": "J6M5iLsY-1Ff",
        "colab_type": "code",
        "outputId": "883470b0-ee7a-4fa2-d596-7badd5e7b9aa",
        "colab": {
          "base_uri": "https://localhost:8080/",
          "height": 238
        }
      },
      "cell_type": "code",
      "source": [
        "#drop the current values from the predictor variables\n",
        "reframed.drop(reframed.columns[[9,11,12,13,14,15,16,17]], axis=1, inplace=True)\n",
        "print(reframed.head())"
      ],
      "execution_count": 28,
      "outputs": [
        {
          "output_type": "stream",
          "text": [
            "   var1(t-1)  var2(t-1)  var3(t-1)  var4(t-1)  var5(t-1)  var6(t-1)  \\\n",
            "1   0.629630   0.360215   0.046196   0.430737   0.301413   0.142857   \n",
            "2   0.740741   0.602151   0.411826   0.583675   0.187705   0.142857   \n",
            "3   0.740741   0.596774   0.638016   0.493389   0.220753   0.285714   \n",
            "4   0.629630   0.376344   0.337792   1.000000   0.237368   0.285714   \n",
            "5   0.703704   0.677419   0.601363   0.412170   0.110906   0.380952   \n",
            "\n",
            "   var7(t-1)  var8(t-1)  var9(t-1)   var2(t)  \n",
            "1   0.190476        0.0   0.093003  0.602151  \n",
            "2   0.285714        0.0   0.075780  0.596774  \n",
            "3   0.333333        0.0   0.047413  0.376344  \n",
            "4   0.380952        0.0   0.000000  0.677419  \n",
            "5   0.428571        0.0   0.051189  0.317204  \n"
          ],
          "name": "stdout"
        }
      ]
    },
    {
      "metadata": {
        "id": "dvEbnHfq-x_y",
        "colab_type": "code",
        "outputId": "745151d2-3dfb-4d26-cc16-c765ac789599",
        "colab": {
          "base_uri": "https://localhost:8080/",
          "height": 34
        }
      },
      "cell_type": "code",
      "source": [
        "values = reframed.values\n",
        "#leave last 30 days for test\n",
        "train = values[:111, :]\n",
        "test = values[111:, :]\n",
        "# split into input and outputs\n",
        "train_X= train[:, :-1]\n",
        "train_y= train[:, -1]\n",
        "test_X= test[:, :-1]\n",
        "test_y= test[:, -1]\n",
        "# reshape input to be 3D [samples, timesteps, features]\n",
        "train_X = train_X.reshape((train_X.shape[0], 1, train_X.shape[1]))\n",
        "test_X = test_X.reshape((test_X.shape[0], 1, test_X.shape[1]))\n",
        "print(train_X.shape, train_y.shape, test_X.shape, test_y.shape)"
      ],
      "execution_count": 0,
      "outputs": [
        {
          "output_type": "stream",
          "text": [
            "(111, 1, 9) (111,) (30, 1, 9) (30,)\n"
          ],
          "name": "stdout"
        }
      ]
    },
    {
      "metadata": {
        "id": "B-7NiTLGC0qL",
        "colab_type": "code",
        "colab": {
          "base_uri": "https://localhost:8080/",
          "height": 34
        },
        "outputId": "ab7f83e2-ed10-4acd-9ed9-8df1a5860b40"
      },
      "cell_type": "code",
      "source": [
        "#import the keras libraries\n",
        "#sequential model for RNN structure\n",
        "from keras.models import Sequential\n",
        "#Dense for output layer\n",
        "from keras.layers import Dense\n",
        "#For LSTM layers\n",
        "from keras.layers import LSTM\n",
        "#For dropout regularisation to prevent overfitting\n",
        "from keras.layers import Dropout"
      ],
      "execution_count": 33,
      "outputs": [
        {
          "output_type": "stream",
          "text": [
            "Using TensorFlow backend.\n"
          ],
          "name": "stderr"
        }
      ]
    },
    {
      "metadata": {
        "id": "sRZpD7S2C1fA",
        "colab_type": "code",
        "colab": {}
      },
      "cell_type": "code",
      "source": [
        "#build the lstm network\n",
        "lstm_model = Sequential()\n",
        "lstm_model.add(LSTM(50, return_sequences=True, input_shape=(train_X.shape[1], train_X.shape[2])))\n",
        "lstm_model.add(Dropout(rate=0.2))\n",
        "lstm_model.add(LSTM(units=50, return_sequences=True))\n",
        "lstm_model.add(Dropout(rate=0.2))\n",
        "lstm_model.add(LSTM(units=50))\n",
        "lstm_model.add(Dense(1))\n",
        "lstm_model.compile(loss='mae', optimizer='adam')"
      ],
      "execution_count": 0,
      "outputs": []
    },
    {
      "metadata": {
        "id": "8WeBN1ajC_k7",
        "colab_type": "code",
        "outputId": "b23413eb-d819-4792-87b5-231ede8ff091",
        "colab": {
          "base_uri": "https://localhost:8080/",
          "height": 2064
        }
      },
      "cell_type": "code",
      "source": [
        "# fit network\n",
        "history = lstm_model.fit(train_X, train_y, epochs=50, batch_size=1, validation_data=(test_X, test_y), verbose=2, shuffle=False)\n",
        "# plot history\n",
        "plt.plot(history.history['loss'], label='Training Loss')\n",
        "plt.plot(history.history['val_loss'], label='Validation Loss')\n",
        "plt.legend()\n",
        "plt.show()\n"
      ],
      "execution_count": 0,
      "outputs": [
        {
          "output_type": "stream",
          "text": [
            "Train on 111 samples, validate on 30 samples\n",
            "Epoch 1/50\n",
            " - 3s - loss: 0.2003 - val_loss: 0.1245\n",
            "Epoch 2/50\n",
            " - 1s - loss: 0.1088 - val_loss: 0.1260\n",
            "Epoch 3/50\n",
            " - 1s - loss: 0.1105 - val_loss: 0.1303\n",
            "Epoch 4/50\n",
            " - 1s - loss: 0.1077 - val_loss: 0.1249\n",
            "Epoch 5/50\n",
            " - 1s - loss: 0.1085 - val_loss: 0.1257\n",
            "Epoch 6/50\n",
            " - 1s - loss: 0.1111 - val_loss: 0.1273\n",
            "Epoch 7/50\n",
            " - 1s - loss: 0.1076 - val_loss: 0.1274\n",
            "Epoch 8/50\n",
            " - 1s - loss: 0.1028 - val_loss: 0.1241\n",
            "Epoch 9/50\n",
            " - 1s - loss: 0.1020 - val_loss: 0.1221\n",
            "Epoch 10/50\n",
            " - 1s - loss: 0.1038 - val_loss: 0.1230\n",
            "Epoch 11/50\n",
            " - 1s - loss: 0.1007 - val_loss: 0.1209\n",
            "Epoch 12/50\n",
            " - 1s - loss: 0.0988 - val_loss: 0.1210\n",
            "Epoch 13/50\n",
            " - 1s - loss: 0.0996 - val_loss: 0.1208\n",
            "Epoch 14/50\n",
            " - 1s - loss: 0.1035 - val_loss: 0.1206\n",
            "Epoch 15/50\n",
            " - 1s - loss: 0.0986 - val_loss: 0.1200\n",
            "Epoch 16/50\n",
            " - 1s - loss: 0.0985 - val_loss: 0.1206\n",
            "Epoch 17/50\n",
            " - 1s - loss: 0.1014 - val_loss: 0.1234\n",
            "Epoch 18/50\n",
            " - 1s - loss: 0.0984 - val_loss: 0.1211\n",
            "Epoch 19/50\n",
            " - 1s - loss: 0.0976 - val_loss: 0.1207\n",
            "Epoch 20/50\n",
            " - 1s - loss: 0.0992 - val_loss: 0.1210\n",
            "Epoch 21/50\n",
            " - 1s - loss: 0.0997 - val_loss: 0.1207\n",
            "Epoch 22/50\n",
            " - 1s - loss: 0.1000 - val_loss: 0.1210\n",
            "Epoch 23/50\n",
            " - 1s - loss: 0.0976 - val_loss: 0.1215\n",
            "Epoch 24/50\n",
            " - 1s - loss: 0.0989 - val_loss: 0.1210\n",
            "Epoch 25/50\n",
            " - 1s - loss: 0.0976 - val_loss: 0.1206\n",
            "Epoch 26/50\n",
            " - 1s - loss: 0.0993 - val_loss: 0.1202\n",
            "Epoch 27/50\n",
            " - 1s - loss: 0.1005 - val_loss: 0.1208\n",
            "Epoch 28/50\n",
            " - 1s - loss: 0.0975 - val_loss: 0.1202\n",
            "Epoch 29/50\n",
            " - 1s - loss: 0.0990 - val_loss: 0.1214\n",
            "Epoch 30/50\n",
            " - 1s - loss: 0.0979 - val_loss: 0.1208\n",
            "Epoch 31/50\n",
            " - 1s - loss: 0.1003 - val_loss: 0.1223\n",
            "Epoch 32/50\n",
            " - 1s - loss: 0.0980 - val_loss: 0.1204\n",
            "Epoch 33/50\n",
            " - 1s - loss: 0.1004 - val_loss: 0.1224\n",
            "Epoch 34/50\n",
            " - 1s - loss: 0.0956 - val_loss: 0.1210\n",
            "Epoch 35/50\n",
            " - 1s - loss: 0.0978 - val_loss: 0.1209\n",
            "Epoch 36/50\n",
            " - 1s - loss: 0.1009 - val_loss: 0.1215\n",
            "Epoch 37/50\n",
            " - 1s - loss: 0.1008 - val_loss: 0.1204\n",
            "Epoch 38/50\n",
            " - 1s - loss: 0.0993 - val_loss: 0.1206\n",
            "Epoch 39/50\n",
            " - 1s - loss: 0.0993 - val_loss: 0.1205\n",
            "Epoch 40/50\n",
            " - 1s - loss: 0.1006 - val_loss: 0.1195\n",
            "Epoch 41/50\n",
            " - 1s - loss: 0.1007 - val_loss: 0.1218\n",
            "Epoch 42/50\n",
            " - 1s - loss: 0.0987 - val_loss: 0.1197\n",
            "Epoch 43/50\n",
            " - 1s - loss: 0.1008 - val_loss: 0.1198\n",
            "Epoch 44/50\n",
            " - 1s - loss: 0.0992 - val_loss: 0.1207\n",
            "Epoch 45/50\n",
            " - 1s - loss: 0.0982 - val_loss: 0.1199\n",
            "Epoch 46/50\n",
            " - 1s - loss: 0.0983 - val_loss: 0.1203\n",
            "Epoch 47/50\n",
            " - 1s - loss: 0.1013 - val_loss: 0.1224\n",
            "Epoch 48/50\n",
            " - 1s - loss: 0.0987 - val_loss: 0.1201\n",
            "Epoch 49/50\n",
            " - 1s - loss: 0.1017 - val_loss: 0.1217\n",
            "Epoch 50/50\n",
            " - 1s - loss: 0.1008 - val_loss: 0.1240\n"
          ],
          "name": "stdout"
        },
        {
          "output_type": "display_data",
          "data": {
            "image/png": "[encoded data removed]",
            "text/plain": [
              "<Figure size 576x396 with 1 Axes>"
            ]
          },
          "metadata": {
            "tags": []
          }
        }
      ]
    },
    {
      "metadata": {
        "id": "9ig3yg9IyJwA",
        "colab_type": "code",
        "outputId": "867cd569-02d4-42bd-c3f4-6545eccdb4f7",
        "colab": {
          "base_uri": "https://localhost:8080/",
          "height": 1258
        }
      },
      "cell_type": "code",
      "source": [
        "# make a prediction\n",
        "yhat = lstm_model.predict(test_X)\n",
        "test_X = test_X.reshape((test_X.shape[0], test_X.shape[2]))\n",
        "# invert scaling for forecast to revert data into original form\n",
        "inv_yhat = np.concatenate((test_X[:,0].reshape(-1,1), yhat, test_X[:, 2:]), axis=1)\n",
        "inv_yhat = mm_scaler.inverse_transform(inv_yhat)\n",
        "# Actual Input\n",
        "inv_xp=np.delete(inv_yhat,[1], axis = 1)\n",
        "#predicted output\n",
        "inv_yhat = inv_yhat[:,1]\n",
        "# invert scaling for actual\n",
        "test_y = test_y.reshape((len(test_y), 1))\n",
        "inv_y = np.concatenate((test_X[:,0].reshape(-1,1),test_y, test_X[:, 2:]), axis=1)\n",
        "inv_y = mm_scaler.inverse_transform(inv_y)\n",
        "#Actual output\n",
        "inv_y = inv_y[:,1]\n",
        "print(\"Actial Input:\")\n",
        "print(inv_xp)\n",
        "print(\"Actual output:\")\n",
        "print(inv_y)\n",
        "#predicted output will be offset by 1\n",
        "print(\"Predicted output:\")\n",
        "print(inv_yhat)\n"
      ],
      "execution_count": 0,
      "outputs": [
        {
          "output_type": "stream",
          "text": [
            "Actial Input:\n",
            "[[ 9.80000000e+01  2.31584692e+03  1.65973083e+03 -8.61509399e+01\n",
            "   3.00000000e+01  2.70000000e+01  0.00000000e+00  1.07202430e+05]\n",
            " [ 8.50000000e+01  3.54336450e+03  1.71163184e+03 -8.62829361e+01\n",
            "   3.00000000e+01  2.30000000e+01  6.99999988e-01  1.08614867e+05]\n",
            " [ 8.80000000e+01  5.50182959e+03  1.90239722e+03 -8.61668930e+01\n",
            "   2.30000000e+01  2.10000000e+01  4.09999990e+00  1.08594453e+05]\n",
            " [ 7.80000000e+01  3.60634595e+03  1.61191907e+03 -8.53140488e+01\n",
            "   2.70000000e+01  2.40000000e+01  1.00000001e-01  1.08952727e+05]\n",
            " [ 8.40000000e+01  3.00353564e+03  1.72651843e+03 -8.64812698e+01\n",
            "   2.70000000e+01  2.50000000e+01  0.00000000e+00  1.09153906e+05]\n",
            " [ 1.03000000e+02  3.45549512e+03  1.81541736e+03 -8.75453033e+01\n",
            "   2.70000000e+01  2.40000000e+01  0.00000000e+00  1.09755141e+05]\n",
            " [ 8.70000000e+01  2.26887354e+03  1.97574438e+03 -8.66130829e+01\n",
            "   2.70000000e+01  2.40000000e+01  0.00000000e+00  1.09755141e+05]\n",
            " [ 5.70000000e+01  3.54464893e+03  1.90899097e+03 -8.66519012e+01\n",
            "   2.70000000e+01  2.50000000e+01  0.00000000e+00  1.09755141e+05]\n",
            " [ 7.80000000e+01  2.23860254e+03  2.07902979e+03 -8.79032288e+01\n",
            "   2.80000000e+01  2.50000000e+01  0.00000000e+00  1.10339992e+05]\n",
            " [ 6.70000000e+01  4.23204492e+03  1.91719409e+03 -8.68711929e+01\n",
            "   2.89999981e+01  2.40000000e+01  3.00000012e-01  1.10423109e+05]\n",
            " [ 7.00000000e+01  1.73527148e+03  1.83819824e+03 -8.68355408e+01\n",
            "   2.40000000e+01  2.10000000e+01  1.00000000e+00  1.10423109e+05]\n",
            " [ 7.10000000e+01  2.40367603e+03  1.76187939e+03 -8.67021255e+01\n",
            "   2.50000000e+01  2.10000000e+01  2.00000003e-01  1.10010492e+05]\n",
            " [ 3.80000000e+01  2.89413159e+03  1.76309314e+03 -8.66828232e+01\n",
            "   2.60000000e+01  2.10000000e+01  0.00000000e+00  1.10010492e+05]\n",
            " [ 3.90000000e+01  1.69105127e+03  1.92233105e+03 -8.67169800e+01\n",
            "   2.89999981e+01  2.40000000e+01  0.00000000e+00  1.10010492e+05]\n",
            " [ 5.60000000e+01  2.29787500e+03  1.74235913e+03 -8.61070480e+01\n",
            "   3.40000000e+01  2.50000000e+01  0.00000000e+00  1.10010492e+05]\n",
            " [ 8.80000000e+01  2.77337500e+03  1.66941296e+03 -8.66653366e+01\n",
            "   2.70000000e+01  2.40000000e+01  0.00000000e+00  1.10010492e+05]\n",
            " [ 1.08999992e+02  2.77362378e+03  1.60679626e+03 -8.63556747e+01\n",
            "   2.60000000e+01  2.30000000e+01  0.00000000e+00  1.08872984e+05]\n",
            " [ 1.04000000e+02  3.81930762e+03  1.95399280e+03 -8.67151642e+01\n",
            "   2.40000000e+01  2.10000000e+01  0.00000000e+00  1.09611781e+05]\n",
            " [ 1.13000008e+02  3.16836279e+03  1.89609058e+03 -8.64179688e+01\n",
            "   2.80000000e+01  2.10000000e+01  0.00000000e+00  1.09742953e+05]\n",
            " [ 9.70000000e+01  2.96710303e+03  1.64773438e+03 -8.53080368e+01\n",
            "   3.09999981e+01  2.50000000e+01  0.00000000e+00  1.08451703e+05]\n",
            " [ 1.13000008e+02  3.20683179e+03  1.75191223e+03 -8.67739258e+01\n",
            "   3.20000000e+01  2.60000000e+01  0.00000000e+00  1.08451703e+05]\n",
            " [ 8.90000000e+01  2.85486523e+03  1.83922522e+03 -8.61687469e+01\n",
            "   3.40000000e+01  2.70000000e+01  0.00000000e+00  1.08451703e+05]\n",
            " [ 9.20000000e+01  2.60284790e+03  1.74927222e+03 -8.64368896e+01\n",
            "   3.50000000e+01  2.80000000e+01  0.00000000e+00  1.09458008e+05]\n",
            " [ 1.10000008e+02  2.42713647e+03  1.67562976e+03 -8.56260605e+01\n",
            "   3.20000000e+01  2.89999981e+01  0.00000000e+00  1.09129648e+05]\n",
            " [ 9.70000000e+01  2.03217529e+03  1.77317517e+03 -8.69597092e+01\n",
            "   3.00000000e+01  2.50000000e+01  0.00000000e+00  1.08155531e+05]\n",
            " [ 1.00000000e+02  3.20204004e+03  1.70328821e+03 -8.64540100e+01\n",
            "   2.80000000e+01  2.40000000e+01  0.00000000e+00  1.08244219e+05]\n",
            " [ 1.11000000e+02  3.27760352e+03  1.49555286e+03 -8.70157471e+01\n",
            "   2.80000000e+01  2.50000000e+01  0.00000000e+00  1.07741703e+05]\n",
            " [ 8.90000000e+01  2.45098877e+03  1.69159338e+03 -8.59134216e+01\n",
            "   2.80000000e+01  2.30000000e+01  0.00000000e+00  1.07741703e+05]\n",
            " [ 1.10000008e+02  1.99608179e+03  1.75310547e+03 -8.59969025e+01\n",
            "   3.00000000e+01  2.30000000e+01  0.00000000e+00  1.07741703e+05]\n",
            " [ 1.07000000e+02  2.99758887e+03  1.78136304e+03 -8.60919647e+01\n",
            "   3.09999981e+01  2.70000000e+01  0.00000000e+00  1.06534602e+05]]\n",
            "Actual output:\n",
            "[ 85.      109.99999 104.       80.      136.       86.       72.\n",
            "  83.       91.       57.       83.       47.       37.       59.\n",
            " 118.      120.99999 120.      128.       95.      153.       94.\n",
            " 118.      135.       89.       75.      118.      106.      119.\n",
            " 135.      107.     ]\n",
            "Predicted output:\n",
            "[88.723274 84.58697  86.76319  86.1271   86.6476   91.35337  89.07455\n",
            " 80.938286 85.20175  80.925316 88.123985 87.99159  79.73534  77.76934\n",
            " 77.082146 88.90964  95.9439   95.14531  95.21452  87.1675   90.17383\n",
            " 82.61216  82.41626  88.752014 89.26986  89.46926  92.50482  90.74217\n",
            " 95.43318  90.624565]\n"
          ],
          "name": "stdout"
        }
      ]
    },
    {
      "metadata": {
        "id": "73SHpDg7yVF-",
        "colab_type": "code",
        "outputId": "30df60c2-b2f8-4c07-f6ad-867157acee22",
        "colab": {
          "base_uri": "https://localhost:8080/",
          "height": 34
        }
      },
      "cell_type": "code",
      "source": [
        "# calculate RMSE\n",
        "rmse = math.sqrt(mean_squared_error(inv_y, inv_yhat))\n",
        "print('Test RMSE: %.3f' % rmse)"
      ],
      "execution_count": 0,
      "outputs": [
        {
          "output_type": "stream",
          "text": [
            "Test RMSE: 28.755\n"
          ],
          "name": "stdout"
        }
      ]
    },
    {
      "metadata": {
        "id": "E2zxTC0oyXAn",
        "colab_type": "code",
        "outputId": "b0352980-c6cd-4927-f0e7-b81654789071",
        "colab": {
          "base_uri": "https://localhost:8080/",
          "height": 376
        }
      },
      "cell_type": "code",
      "source": [
        "#visualise the results\n",
        "plt.plot(inv_y, color='red', label='real exits')\n",
        "plt.plot(inv_yhat, color='blue', label='predicted exits')\n",
        "plt.title('Store Exits Prediction')\n",
        "plt.xlabel('Time')\n",
        "plt.ylabel('Exits')\n",
        "plt.legend()\n",
        "plt.show()"
      ],
      "execution_count": 0,
      "outputs": [
        {
          "output_type": "display_data",
          "data": {
            "image/png": "[encoded data removed]",
            "text/plain": [
              "<Figure size 576x396 with 1 Axes>"
            ]
          },
          "metadata": {
            "tags": []
          }
        }
      ]
    },
    {
      "metadata": {
        "id": "HXpPVLQIzlzR",
        "colab_type": "text"
      },
      "cell_type": "markdown",
      "source": [
        "# Take 2 at LSTM\n"
      ]
    },
    {
      "metadata": {
        "id": "M008amSRzlD6",
        "colab_type": "code",
        "colab": {}
      },
      "cell_type": "code",
      "source": [
        "x_data = model_data.drop(['Exits'], axis =1)\n",
        "y_data = model_data['Exits']\n",
        "x_values = x_data.values\n",
        "x_values = x_values.astype('float32')\n",
        "y_values = y_data.values\n",
        "y_values = y_values.astype('float32')\n",
        "x_scaler = MinMaxScaler(feature_range=(0, 1))\n",
        "y_scaler = MinMaxScaler(feature_range=(0, 1))\n",
        "x_scaled = x_scaler.fit_transform(x_values)\n",
        "y_scaled = y_scaler.fit_transform(y_values.reshape(-1,1))"
      ],
      "execution_count": 0,
      "outputs": []
    },
    {
      "metadata": {
        "id": "Eohu9pOQz1rP",
        "colab_type": "code",
        "colab": {}
      },
      "cell_type": "code",
      "source": [
        "X_train1 = []\n",
        "X_train2=[]\n",
        "X_train3=[]\n",
        "X_train4=[]\n",
        "X_train5=[]\n",
        "X_train6=[]\n",
        "X_train7=[]\n",
        "X_train8=[]\n",
        "Y_train = []\n",
        "\n",
        "for i in range(7,112):\n",
        "    X_train1.append(x_scaled[i-7:i,0])\n",
        "    X_train2.append(x_scaled[i-7:i,1])\n",
        "    X_train3.append(x_scaled[i-7:i,2])\n",
        "    X_train4.append(x_scaled[i-7:i,3])\n",
        "    X_train5.append(x_scaled[i-7:i,4])\n",
        "    X_train6.append(x_scaled[i-7:i,5])\n",
        "    X_train7.append(x_scaled[i-7:i,6])\n",
        "    X_train8.append(x_scaled[i-7:i,7])\n",
        "    Y_train.append(y_scaled[i,0])\n",
        "    \n",
        "X_train1, X_train2, X_train3, X_train4, X_train5, X_train6, X_train7, X_train8, Y_train =np.array(X_train1), np.array(X_train2), np.array(X_train3), np.array(X_train4), np.array(X_train5), np.array(X_train6), np.array(X_train7), np.array(X_train8), np.array(Y_train)\n",
        "\n",
        "X_trainComb = np.stack([X_train1,X_train2,X_train3,X_train4,X_train5,X_train6,X_train7,X_train8],axis=2)\n"
      ],
      "execution_count": 0,
      "outputs": []
    },
    {
      "metadata": {
        "id": "clIaSgp6z55k",
        "colab_type": "code",
        "colab": {}
      },
      "cell_type": "code",
      "source": [
        "#format test data as we did for training set\n",
        "X_test1 = []\n",
        "X_test2 = []\n",
        "X_test3 = []\n",
        "X_test4 = []\n",
        "X_test5 = []\n",
        "X_test6 = []\n",
        "X_test7 = []\n",
        "X_test8 = []\n",
        "for i in range(112,142):\n",
        "    X_test1.append(x_scaled[i-7:i,0])\n",
        "    X_test2.append(x_scaled[i-7:i,1])\n",
        "    X_test3.append(x_scaled[i-7:i,2])\n",
        "    X_test4.append(x_scaled[i-7:i,3])\n",
        "    X_test5.append(x_scaled[i-7:i,4])\n",
        "    X_test6.append(x_scaled[i-7:i,5])\n",
        "    X_test7.append(x_scaled[i-7:i,6])\n",
        "    X_test8.append(x_scaled[i-7:i,7])\n",
        "   \n",
        "X_test1, X_test2, X_test3, X_test4, X_test5, X_test6, X_test7, X_test8 =np.array(X_test1), np.array(X_test2), np.array(X_test3), np.array(X_test4), np.array(X_test5), np.array(X_test6), np.array(X_test7), np.array(X_test8)\n",
        "#X_test = np.reshape(X_test, (X_test.shape[0],X_test.shape[1],1))\n",
        "X_testcomb = np.stack([X_test1,X_test2,X_test3,X_test4,X_test5,X_test6,X_test7,X_test8],axis=2)\n"
      ],
      "execution_count": 0,
      "outputs": []
    },
    {
      "metadata": {
        "id": "uR4GMAwAz9xq",
        "colab_type": "code",
        "colab": {}
      },
      "cell_type": "code",
      "source": [
        "y_test = model_data.iloc[112:,1]"
      ],
      "execution_count": 0,
      "outputs": []
    },
    {
      "metadata": {
        "id": "FV66wszl0CGu",
        "colab_type": "code",
        "colab": {}
      },
      "cell_type": "code",
      "source": [
        "lstm_model2 = Sequential()\n",
        "lstm_model2.add(LSTM(units=50, return_sequences = True, input_shape = (X_trainComb.shape[1],8)))\n",
        "#adding dropout reg - number of neurons to ignore @ each pass in training - standard value is 0.2\n",
        "lstm_model.add(Dropout(rate=0.2))\n",
        "\n",
        "#Adding second LSTM layers with dropout reg - don't need to specify shape - picks it up from 1st layer\n",
        "lstm_model2.add(LSTM(units=50, return_sequences = True))\n",
        "lstm_model2.add(Dropout(rate=0.2))\n",
        "\n",
        "#Adding third LSTM layers with dropout reg\n",
        "lstm_model2.add(LSTM(units=50, return_sequences = True))\n",
        "lstm_model2.add(Dropout(rate=0.2))\n",
        "\n",
        "#Adding fourth LSTM layers with dropout reg - as last layer we don't want to return a sequence\n",
        "lstm_model2.add(LSTM(units=50))\n",
        "lstm_model2.add(Dropout(rate=0.2))\n",
        "\n",
        "#Add the output layer\n",
        "lstm_model2.add(Dense(units=1))"
      ],
      "execution_count": 0,
      "outputs": []
    },
    {
      "metadata": {
        "id": "AF-gawNh0JLX",
        "colab_type": "code",
        "outputId": "f999a61b-ca04-4121-fd8d-02ea3015e8f6",
        "colab": {
          "base_uri": "https://localhost:8080/",
          "height": 731
        }
      },
      "cell_type": "code",
      "source": [
        "lstm_model2.compile(optimizer='adam', loss='mse')\n",
        "\n",
        "#fitting the RNN to the training set\n",
        "#submit data in batches of 32\n",
        "lstm_model2.fit(x=X_trainComb, y=Y_train,epochs=20,batch_size=1, validation_data = (X_testcomb, y_test))\n"
      ],
      "execution_count": 0,
      "outputs": [
        {
          "output_type": "stream",
          "text": [
            "Train on 105 samples, validate on 30 samples\n",
            "Epoch 1/20\n",
            "105/105 [==============================] - 8s 73ms/step - loss: 0.0369 - val_loss: 10449.0173\n",
            "Epoch 2/20\n",
            "105/105 [==============================] - 2s 19ms/step - loss: 0.0241 - val_loss: 10449.1192\n",
            "Epoch 3/20\n",
            "105/105 [==============================] - 2s 19ms/step - loss: 0.0236 - val_loss: 10430.9856\n",
            "Epoch 4/20\n",
            "105/105 [==============================] - 2s 19ms/step - loss: 0.0206 - val_loss: 10460.9881\n",
            "Epoch 5/20\n",
            "105/105 [==============================] - 2s 19ms/step - loss: 0.0210 - val_loss: 10425.7269\n",
            "Epoch 6/20\n",
            "105/105 [==============================] - 2s 19ms/step - loss: 0.0196 - val_loss: 10447.9715\n",
            "Epoch 7/20\n",
            "105/105 [==============================] - 2s 19ms/step - loss: 0.0212 - val_loss: 10441.0820\n",
            "Epoch 8/20\n",
            "105/105 [==============================] - 2s 19ms/step - loss: 0.0199 - val_loss: 10437.2164\n",
            "Epoch 9/20\n",
            "105/105 [==============================] - 2s 19ms/step - loss: 0.0211 - val_loss: 10447.1529\n",
            "Epoch 10/20\n",
            "105/105 [==============================] - 2s 20ms/step - loss: 0.0200 - val_loss: 10439.7327\n",
            "Epoch 11/20\n",
            "105/105 [==============================] - 2s 20ms/step - loss: 0.0194 - val_loss: 10450.8430\n",
            "Epoch 12/20\n",
            "105/105 [==============================] - 2s 21ms/step - loss: 0.0184 - val_loss: 10454.1436\n",
            "Epoch 13/20\n",
            "105/105 [==============================] - 2s 20ms/step - loss: 0.0180 - val_loss: 10443.6717\n",
            "Epoch 14/20\n",
            "105/105 [==============================] - 2s 20ms/step - loss: 0.0177 - val_loss: 10440.4312\n",
            "Epoch 15/20\n",
            "105/105 [==============================] - 2s 19ms/step - loss: 0.0192 - val_loss: 10447.3086\n",
            "Epoch 16/20\n",
            "105/105 [==============================] - 2s 19ms/step - loss: 0.0184 - val_loss: 10448.5997\n",
            "Epoch 17/20\n",
            "105/105 [==============================] - 2s 19ms/step - loss: 0.0194 - val_loss: 10441.7156\n",
            "Epoch 18/20\n",
            "105/105 [==============================] - 2s 19ms/step - loss: 0.0179 - val_loss: 10435.2869\n",
            "Epoch 19/20\n",
            "105/105 [==============================] - 2s 19ms/step - loss: 0.0189 - val_loss: 10445.7902\n",
            "Epoch 20/20\n",
            "105/105 [==============================] - 2s 19ms/step - loss: 0.0178 - val_loss: 10436.6638\n"
          ],
          "name": "stdout"
        },
        {
          "output_type": "execute_result",
          "data": {
            "text/plain": [
              "<keras.callbacks.History at 0x7f80634f76a0>"
            ]
          },
          "metadata": {
            "tags": []
          },
          "execution_count": 79
        }
      ]
    },
    {
      "metadata": {
        "id": "kswKVwQo0Qgh",
        "colab_type": "code",
        "outputId": "dba26c25-286d-4e59-9c12-55a7f4c59365",
        "colab": {
          "base_uri": "https://localhost:8080/",
          "height": 376
        }
      },
      "cell_type": "code",
      "source": [
        "#create predictions\n",
        "predicted_exits = lstm_model2.predict(X_testcomb)\n",
        "\n",
        "#reverse the scaling so the predictions are on the original scale\n",
        "predicted_exits = y_scaler.inverse_transform(predicted_exits)\n",
        "\n",
        "\n",
        "#visualise results\n",
        "import matplotlib.pyplot as plt\n",
        "\n",
        "\n",
        "predicted_exits = pd.DataFrame(predicted_exits, index = y_test.index)\n",
        "\n",
        "plt.plot(y_test, color='red', label='real exits')\n",
        "plt.plot(predicted_exits, color='blue', label='predicted exits')\n",
        "plt.title('Store Exits Prediction')\n",
        "plt.xlabel('Time')\n",
        "plt.ylabel('Exits')\n",
        "plt.legend()\n",
        "plt.show()"
      ],
      "execution_count": 0,
      "outputs": [
        {
          "output_type": "display_data",
          "data": {
            "image/png": "[encoded data removed]",
            "text/plain": [
              "<Figure size 576x396 with 1 Axes>"
            ]
          },
          "metadata": {
            "tags": []
          }
        }
      ]
    },
    {
      "metadata": {
        "id": "Idx5EsAx0STg",
        "colab_type": "code",
        "outputId": "47838b30-dfa7-4a73-96d6-81bf15b7cb1f",
        "colab": {
          "base_uri": "https://localhost:8080/",
          "height": 34
        }
      },
      "cell_type": "code",
      "source": [
        "import math\n",
        "from sklearn.metrics import mean_squared_error\n",
        "rmse = math.sqrt(mean_squared_error(y_test, predicted_exits))\n",
        "print('Test RMSE: %.3f' % rmse)"
      ],
      "execution_count": 0,
      "outputs": [
        {
          "output_type": "stream",
          "text": [
            "Test RMSE: 28.155\n"
          ],
          "name": "stdout"
        }
      ]
    },
    {
      "metadata": {
        "id": "ADmK511z-RTz",
        "colab_type": "text"
      },
      "cell_type": "markdown",
      "source": [
        "#Take 3"
      ]
    },
    {
      "metadata": {
        "id": "I-Ocr1OO9qHN",
        "colab_type": "code",
        "colab": {
          "base_uri": "https://localhost:8080/",
          "height": 119
        },
        "outputId": "8a332080-043a-4609-b10c-22fe7748b687"
      },
      "cell_type": "code",
      "source": [
        "# import the appropriate library\n",
        "from sklearn.preprocessing import MinMaxScaler\n",
        "\n",
        "\n",
        "#values = model_data[:,1]\n",
        "values = model_data['Exits'].values\n",
        "\n",
        "values = values.astype('float32')\n",
        "values = values.reshape(-1,1)\n",
        "# normalize features\n",
        "mm_scaler = MinMaxScaler(feature_range=(0, 1))\n",
        "scaled = mm_scaler.fit_transform(values)\n",
        "# use predefined function to store previous rows values of each input in separate cols\n",
        "reframed = convert_timeseries(scaled, 1, 1)\n",
        "\n",
        "print(reframed.head())\n",
        "#model_data['Exits']"
      ],
      "execution_count": 52,
      "outputs": [
        {
          "output_type": "stream",
          "text": [
            "   var1(t-1)   var1(t)\n",
            "1   0.360215  0.602151\n",
            "2   0.602151  0.596774\n",
            "3   0.596774  0.376344\n",
            "4   0.376344  0.677419\n",
            "5   0.677419  0.317204\n"
          ],
          "name": "stdout"
        }
      ]
    },
    {
      "metadata": {
        "id": "-nulG5717bdY",
        "colab_type": "code",
        "colab": {
          "base_uri": "https://localhost:8080/",
          "height": 34
        },
        "outputId": "e07c1752-ac38-48f9-e2ac-53fc2b7468bd"
      },
      "cell_type": "code",
      "source": [
        "values = reframed.values\n",
        "#leave last 30 days for test\n",
        "train = values[:111, :]\n",
        "test = values[111:, :]\n",
        "# split into input and outputs\n",
        "train_X= train[:, 0]\n",
        "train_y= train[:, -1]\n",
        "test_X= test[:, 0]\n",
        "test_y= test[:, -1]\n",
        "# reshape input to be 3D [samples, timesteps, features]\n",
        "train_X = train_X.reshape((train_X.shape[0], 1, 1))\n",
        "test_X = test_X.reshape((test_X.shape[0], 1, 1))\n",
        "print(train_X.shape, train_y.shape, test_X.shape, test_y.shape)"
      ],
      "execution_count": 53,
      "outputs": [
        {
          "output_type": "stream",
          "text": [
            "(111, 1, 1) (111,) (30, 1, 1) (30,)\n"
          ],
          "name": "stdout"
        }
      ]
    },
    {
      "metadata": {
        "id": "fILdRap67bqZ",
        "colab_type": "code",
        "colab": {}
      },
      "cell_type": "code",
      "source": [
        "#build the lstm network\n",
        "lstm_model3 = Sequential()\n",
        "lstm_model3.add(LSTM(50, return_sequences=True, input_shape=(train_X.shape[1], train_X.shape[2])))\n",
        "lstm_model3.add(Dropout(rate=0.2))\n",
        "lstm_model3.add(LSTM(units=50, return_sequences=True))\n",
        "lstm_model3.add(Dropout(rate=0.2))\n",
        "lstm_model3.add(LSTM(units=50))\n",
        "lstm_model3.add(Dense(1))\n",
        "lstm_model3.compile(loss='mae', optimizer='adam')"
      ],
      "execution_count": 0,
      "outputs": []
    },
    {
      "metadata": {
        "id": "xydeQqbC7byz",
        "colab_type": "code",
        "colab": {
          "base_uri": "https://localhost:8080/",
          "height": 2064
        },
        "outputId": "39ce1918-635c-4756-d83c-b268ea2d9031"
      },
      "cell_type": "code",
      "source": [
        "# fit network\n",
        "history = lstm_model3.fit(train_X, train_y, epochs=50, batch_size=1, validation_data=(test_X, test_y), verbose=2, shuffle=False)\n",
        "# plot history\n",
        "plt.plot(history.history['loss'], label='Training Loss')\n",
        "plt.plot(history.history['val_loss'], label='Validation Loss')\n",
        "plt.legend()\n",
        "plt.show()"
      ],
      "execution_count": 55,
      "outputs": [
        {
          "output_type": "stream",
          "text": [
            "Train on 111 samples, validate on 30 samples\n",
            "Epoch 1/50\n",
            " - 4s - loss: 0.2138 - val_loss: 0.1313\n",
            "Epoch 2/50\n",
            " - 1s - loss: 0.1097 - val_loss: 0.1281\n",
            "Epoch 3/50\n",
            " - 1s - loss: 0.1086 - val_loss: 0.1276\n",
            "Epoch 4/50\n",
            " - 1s - loss: 0.1079 - val_loss: 0.1239\n",
            "Epoch 5/50\n",
            " - 1s - loss: 0.1096 - val_loss: 0.1277\n",
            "Epoch 6/50\n",
            " - 1s - loss: 0.1139 - val_loss: 0.1283\n",
            "Epoch 7/50\n",
            " - 1s - loss: 0.1112 - val_loss: 0.1291\n",
            "Epoch 8/50\n",
            " - 1s - loss: 0.1122 - val_loss: 0.1260\n",
            "Epoch 9/50\n",
            " - 1s - loss: 0.1111 - val_loss: 0.1286\n",
            "Epoch 10/50\n",
            " - 1s - loss: 0.1147 - val_loss: 0.1276\n",
            "Epoch 11/50\n",
            " - 1s - loss: 0.1127 - val_loss: 0.1273\n",
            "Epoch 12/50\n",
            " - 1s - loss: 0.1142 - val_loss: 0.1274\n",
            "Epoch 13/50\n",
            " - 1s - loss: 0.1141 - val_loss: 0.1246\n",
            "Epoch 14/50\n",
            " - 1s - loss: 0.1116 - val_loss: 0.1263\n",
            "Epoch 15/50\n",
            " - 1s - loss: 0.1183 - val_loss: 0.1251\n",
            "Epoch 16/50\n",
            " - 1s - loss: 0.1139 - val_loss: 0.1240\n",
            "Epoch 17/50\n",
            " - 1s - loss: 0.1132 - val_loss: 0.1246\n",
            "Epoch 18/50\n",
            " - 1s - loss: 0.1157 - val_loss: 0.1260\n",
            "Epoch 19/50\n",
            " - 1s - loss: 0.1170 - val_loss: 0.1240\n",
            "Epoch 20/50\n",
            " - 1s - loss: 0.1162 - val_loss: 0.1248\n",
            "Epoch 21/50\n",
            " - 1s - loss: 0.1178 - val_loss: 0.1239\n",
            "Epoch 22/50\n",
            " - 1s - loss: 0.1185 - val_loss: 0.1228\n",
            "Epoch 23/50\n",
            " - 1s - loss: 0.1150 - val_loss: 0.1230\n",
            "Epoch 24/50\n",
            " - 1s - loss: 0.1179 - val_loss: 0.1224\n",
            "Epoch 25/50\n",
            " - 1s - loss: 0.1165 - val_loss: 0.1229\n",
            "Epoch 26/50\n",
            " - 1s - loss: 0.1178 - val_loss: 0.1225\n",
            "Epoch 27/50\n",
            " - 1s - loss: 0.1162 - val_loss: 0.1221\n",
            "Epoch 28/50\n",
            " - 1s - loss: 0.1139 - val_loss: 0.1225\n",
            "Epoch 29/50\n",
            " - 1s - loss: 0.1145 - val_loss: 0.1224\n",
            "Epoch 30/50\n",
            " - 1s - loss: 0.1182 - val_loss: 0.1227\n",
            "Epoch 31/50\n",
            " - 1s - loss: 0.1166 - val_loss: 0.1217\n",
            "Epoch 32/50\n",
            " - 1s - loss: 0.1148 - val_loss: 0.1213\n",
            "Epoch 33/50\n",
            " - 1s - loss: 0.1156 - val_loss: 0.1210\n",
            "Epoch 34/50\n",
            " - 1s - loss: 0.1129 - val_loss: 0.1212\n",
            "Epoch 35/50\n",
            " - 1s - loss: 0.1150 - val_loss: 0.1211\n",
            "Epoch 36/50\n",
            " - 1s - loss: 0.1153 - val_loss: 0.1210\n",
            "Epoch 37/50\n",
            " - 1s - loss: 0.1151 - val_loss: 0.1205\n",
            "Epoch 38/50\n",
            " - 1s - loss: 0.1140 - val_loss: 0.1204\n",
            "Epoch 39/50\n",
            " - 1s - loss: 0.1161 - val_loss: 0.1194\n",
            "Epoch 40/50\n",
            " - 1s - loss: 0.1119 - val_loss: 0.1198\n",
            "Epoch 41/50\n",
            " - 1s - loss: 0.1144 - val_loss: 0.1204\n",
            "Epoch 42/50\n",
            " - 1s - loss: 0.1126 - val_loss: 0.1199\n",
            "Epoch 43/50\n",
            " - 1s - loss: 0.1141 - val_loss: 0.1187\n",
            "Epoch 44/50\n",
            " - 1s - loss: 0.1100 - val_loss: 0.1198\n",
            "Epoch 45/50\n",
            " - 1s - loss: 0.1120 - val_loss: 0.1188\n",
            "Epoch 46/50\n",
            " - 1s - loss: 0.1112 - val_loss: 0.1196\n",
            "Epoch 47/50\n",
            " - 1s - loss: 0.1136 - val_loss: 0.1174\n",
            "Epoch 48/50\n",
            " - 1s - loss: 0.1122 - val_loss: 0.1163\n",
            "Epoch 49/50\n",
            " - 1s - loss: 0.1090 - val_loss: 0.1162\n",
            "Epoch 50/50\n",
            " - 1s - loss: 0.1104 - val_loss: 0.1153\n"
          ],
          "name": "stdout"
        },
        {
          "output_type": "display_data",
          "data": {
            "image/png": "[encoded data removed]",
            "text/plain": [
              "<Figure size 576x396 with 1 Axes>"
            ]
          },
          "metadata": {
            "tags": []
          }
        }
      ]
    },
    {
      "metadata": {
        "id": "ktnooWCC7b6s",
        "colab_type": "code",
        "colab": {
          "base_uri": "https://localhost:8080/",
          "height": 748
        },
        "outputId": "022e0c0f-19ba-46e2-d1f2-4c3825d0060a"
      },
      "cell_type": "code",
      "source": [
        "# make a prediction\n",
        "yhat = lstm_model3.predict(test_X)\n",
        "test_X = test_X.reshape((test_X.shape[0], test_X.shape[2]))\n",
        "# invert scaling for forecast to revert data into original form\n",
        "inv_yhat = np.concatenate((test_X[:,0].reshape(-1,1), yhat, test_X[:, 2:]), axis=1)\n",
        "inv_yhat = mm_scaler.inverse_transform(inv_yhat)\n",
        "# Actual Input\n",
        "inv_xp=np.delete(inv_yhat,[1], axis = 1)\n",
        "#predicted output\n",
        "inv_yhat = inv_yhat[:,1]\n",
        "# invert scaling for actual\n",
        "test_y = test_y.reshape((len(test_y), 1))\n",
        "inv_y = np.concatenate((test_X[:,0].reshape(-1,1),test_y, test_X[:, 2:]), axis=1)\n",
        "inv_y = mm_scaler.inverse_transform(inv_y)\n",
        "#Actual output\n",
        "inv_y = inv_y[:,1]\n",
        "print(\"Actial Input:\")\n",
        "print(inv_xp)\n",
        "print(\"Actual output:\")\n",
        "print(inv_y)\n",
        "#predicted output will be offset by 1\n",
        "print(\"Predicted output:\")\n",
        "print(inv_yhat)"
      ],
      "execution_count": 56,
      "outputs": [
        {
          "output_type": "stream",
          "text": [
            "Actial Input:\n",
            "[[ 90.     ]\n",
            " [ 85.     ]\n",
            " [109.99999]\n",
            " [104.     ]\n",
            " [ 80.     ]\n",
            " [136.     ]\n",
            " [ 86.     ]\n",
            " [ 72.     ]\n",
            " [ 83.     ]\n",
            " [ 91.     ]\n",
            " [ 57.     ]\n",
            " [ 83.     ]\n",
            " [ 47.     ]\n",
            " [ 37.     ]\n",
            " [ 59.     ]\n",
            " [118.     ]\n",
            " [120.99999]\n",
            " [120.     ]\n",
            " [128.     ]\n",
            " [ 95.     ]\n",
            " [153.     ]\n",
            " [ 94.     ]\n",
            " [118.     ]\n",
            " [135.     ]\n",
            " [ 89.     ]\n",
            " [ 75.     ]\n",
            " [118.     ]\n",
            " [106.     ]\n",
            " [119.     ]\n",
            " [135.     ]]\n",
            "Actual output:\n",
            "[ 85.      109.99999 104.       80.      136.       86.       72.\n",
            "  83.       91.       57.       83.       47.       37.       59.\n",
            " 118.      120.99999 120.      128.       95.      153.       94.\n",
            " 118.      135.       89.       75.      118.      106.      119.\n",
            " 135.      107.     ]\n",
            "Predicted output:\n",
            "[ 91.1671    89.445526  97.268555  95.56396   87.639786 103.54826\n",
            "  89.796486  84.568375  88.7335    91.50156   78.16832   88.7335\n",
            "  73.40622   68.22265   79.07203   99.38516  100.13488   99.88757\n",
            " 101.7954    92.80735  106.804955  92.485664  99.38516  103.33729\n",
            "  90.82938   85.74702   99.38516   96.14367   99.637665 103.33729 ]\n"
          ],
          "name": "stdout"
        }
      ]
    },
    {
      "metadata": {
        "id": "f5k4veMbANBn",
        "colab_type": "code",
        "colab": {
          "base_uri": "https://localhost:8080/",
          "height": 34
        },
        "outputId": "2d96ffe9-6b32-4cfc-c9c0-52630833a133"
      },
      "cell_type": "code",
      "source": [
        "# calculate RMSE\n",
        "rmse = math.sqrt(mean_squared_error(inv_y, inv_yhat))\n",
        "print('Test RMSE: %.3f' % rmse)"
      ],
      "execution_count": 57,
      "outputs": [
        {
          "output_type": "stream",
          "text": [
            "Test RMSE: 26.033\n"
          ],
          "name": "stdout"
        }
      ]
    },
    {
      "metadata": {
        "id": "jnEKIgh2ANIx",
        "colab_type": "code",
        "colab": {
          "base_uri": "https://localhost:8080/",
          "height": 376
        },
        "outputId": "f05767c9-1e95-4ff6-a189-e7f0202f004b"
      },
      "cell_type": "code",
      "source": [
        "#visualise the results\n",
        "plt.plot(inv_y, color='red', label='real exits')\n",
        "plt.plot(inv_yhat, color='blue', label='predicted exits')\n",
        "plt.title('Store Exits Prediction')\n",
        "plt.xlabel('Time')\n",
        "plt.ylabel('Exits')\n",
        "plt.legend()\n",
        "plt.show()"
      ],
      "execution_count": 58,
      "outputs": [
        {
          "output_type": "display_data",
          "data": {
            "image/png": "[encoded data removed]",
            "text/plain": [
              "<Figure size 576x396 with 1 Axes>"
            ]
          },
          "metadata": {
            "tags": []
          }
        }
      ]
    }
  ]
}